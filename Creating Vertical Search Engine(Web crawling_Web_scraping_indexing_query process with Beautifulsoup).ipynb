{
 "cells": [
  {
   "cell_type": "code",
   "execution_count": 1,
   "id": "3de93774",
   "metadata": {},
   "outputs": [
    {
     "name": "stdout",
     "output_type": "stream",
     "text": [
      "Requirement already satisfied: beautifulsoup4 in c:\\users\\pagid\\anaconda3\\lib\\site-packages (4.10.0)\n",
      "Requirement already satisfied: soupsieve>1.2 in c:\\users\\pagid\\anaconda3\\lib\\site-packages (from beautifulsoup4) (2.2.1)\n"
     ]
    }
   ],
   "source": [
    "!pip install beautifulsoup4"
   ]
  },
  {
   "cell_type": "code",
   "execution_count": 2,
   "id": "ccff1f82",
   "metadata": {},
   "outputs": [
    {
     "name": "stdout",
     "output_type": "stream",
     "text": [
      "User-Agent: *\n",
      "Crawl-Delay: 1\n",
      "Disallow: /*?*format=rss\n",
      "Disallow: /*?*export=xls\n",
      "Sitemap: https://pureportal.coventry.ac.uk/sitemap.xml\n"
     ]
    }
   ],
   "source": [
    "import requests\n",
    "base=\"https://pureportal.coventry.ac.uk\"\n",
    "robot=requests.get(\"https://pureportal.coventry.ac.uk/robots.txt\")\n",
    "robot_text=robot.text\n",
    "print(robot_text)"
   ]
  },
  {
   "cell_type": "code",
   "execution_count": 3,
   "id": "12ab5fb3",
   "metadata": {},
   "outputs": [
    {
     "name": "stdout",
     "output_type": "stream",
     "text": [
      "https://pureportal.coventry.ac.uk/en/organisations/school-of-economics-finance-and-accounting/publications/?page=1\n",
      "https://pureportal.coventry.ac.uk/en/organisations/school-of-economics-finance-and-accounting/publications/?page=2\n",
      "https://pureportal.coventry.ac.uk/en/organisations/school-of-economics-finance-and-accounting/publications/?page=3\n",
      "https://pureportal.coventry.ac.uk/en/organisations/school-of-economics-finance-and-accounting/publications/?page=4\n",
      "https://pureportal.coventry.ac.uk/en/organisations/school-of-economics-finance-and-accounting/publications/?page=5\n",
      "https://pureportal.coventry.ac.uk/en/organisations/school-of-economics-finance-and-accounting/publications/?page=6\n",
      "https://pureportal.coventry.ac.uk/en/organisations/school-of-economics-finance-and-accounting/publications/?page=7\n",
      "https://pureportal.coventry.ac.uk/en/organisations/school-of-economics-finance-and-accounting/publications/?page=8\n",
      "https://pureportal.coventry.ac.uk/en/organisations/school-of-economics-finance-and-accounting/publications/?page=9\n",
      "https://pureportal.coventry.ac.uk/en/organisations/school-of-economics-finance-and-accounting/publications/?page=10\n",
      "https://pureportal.coventry.ac.uk/en/organisations/school-of-economics-finance-and-accounting/publications/?page=11\n",
      "https://pureportal.coventry.ac.uk/en/organisations/school-of-economics-finance-and-accounting/publications/?page=12\n"
     ]
    }
   ],
   "source": [
    "from bs4 import BeautifulSoup\n",
    "import requests\n",
    "import pandas as pd\n",
    "import csv\n",
    "base=\"https://pureportal.coventry.ac.uk\"\n",
    "url = \"https://pureportal.coventry.ac.uk/en/organisations/school-of-economics-finance-and-accounting\"\n",
    "next_url=url+'/publications'\n",
    "req=requests.get(next_url)\n",
    "sup=BeautifulSoup(req.text,'html.parser')\n",
    "url_list=[next_url]\n",
    "page=0\n",
    "while page<len(url_list):\n",
    "    req=requests.get(url_list[page])\n",
    "    sup=BeautifulSoup(req.text,'html.parser')\n",
    "    page +=1\n",
    "    for link in sup.select('li.next a'):\n",
    "        url_list.append(base+link.get('href')) \n",
    "        print(base+link.get('href'))"
   ]
  },
  {
   "cell_type": "code",
   "execution_count": 4,
   "id": "898ab292",
   "metadata": {
    "scrolled": false
   },
   "outputs": [
    {
     "name": "stdout",
     "output_type": "stream",
     "text": [
      "{'title': ['CEO Financial Experience and Firms’ Earnings Management in M&A: the importance of Experience Specificity', 'CEO Financial Experience and Firms’ Earnings Management in M&A: the importance of Experience Specificity', 'CEO Financial Experience and Firms’ Earnings Management in M&A: the importance of Experience Specificity', 'Finding our place in the world with the Sustainable Development Goals', 'Finding our place in the world with the Sustainable Development Goals', 'French Indochina War: Reflections for strategic resilience', 'French Indochina War: Reflections for strategic resilience', 'French Indochina War: Reflections for strategic resilience', 'Trade Wins or Trade Wars: The Perceptions and Knowledge in the Free Trade Debate', 'Earnings management by share-financed acquirers prior to deal announcements: The roles of financial expertise, tenure and reputation.', \"Effects of director networks on acquiring firms' earnings management prior to M&A\", \"Effects of director networks on acquiring firms' earnings management prior to M&A\", 'An Empirical Review of the Long-Term Impact of R&D Expenditure and Capital Accumulation on GDP per Capita', 'Competing institutional logics and institutional embeddedness of actors in Islamic financial reporting standardisation: A comparative study', 'Compliance with Mercury Reporting Provisions under the Minamata Convention: An Assessment from a Developing Country Perspective', 'Corporate environmental accountability in Nigeria: the role of Local Community', 'Essential Personal Finance:  A Practical Guide for Employees', 'Family-controlled      financial institutions: An institutional perspective on service quality management', 'New Approaches in Assessing CSR & Sustainability Disclosure: Insights into the Updateability of Web-based Data', 'Political ideology and NGO accountability: the case of the Syrian conflict', 'Financialisation, Capital Accumulation and Economic Development in Nigeria: A critical perspective. ', 'Revisiting the evidence of earnings management prior to merger announcements: an application of Benford’s law', 'Essential Personal Finance: A Practical Guide for Students', 'Financial Innovation, Banking System and Housing Market.', 'Smart urban regeneration: Visions, institutions and mechanisms for real estate', 'The welfare implications of public healthcare financing: A Macro-Micro simulation analysis of Uganda', 'The welfare implications of public healthcare financing: A Macro-Micro simulation analysis of Uganda', 'Understanding Islamic financial reporting standardisation projects: institutional logics perspective', 'Basic Mathematics for Economists', 'Financial Innovation, Banking System and Housing Market. Is the Concept of Financial Innovation Enough to Explain the Banks’ Regulatory Arbitrage?', 'Handbook of Frontier Markets: African, European and Asian Evidence', 'Islamic financial reporting standardisation projects: institutional logics perspective on the Malaysian case', 'A Finance-led Economic System: An ABM Experimentation and Policy Proposals', 'Fatality Sensitivity in Coalition Countries: A Study of British, Polish and Australian Public Opinion on the Iraq War', 'Finance-Growth: Virtuous and Dis-Virtuous Cycles (VDCs) Theory and Empirical Evidence', 'Re-Examining the Financial Deepening-Growth Nexus: A Time-Series Evidence of the Nigerian Economy from 1961 to 2013', 'The Rate of Profit, Financialisation and Economic Growth: A theoretical and empirical investigation of the Nigerian Economy', '\"Virtuous\" To \"Bad\" Cycles in the Finance-Growth Relationship', 'Finance and Growth: Understanding the Switch from “Virtuous” To “Bad” Cycles in the Finance-Growth Relationship', 'Presentation in the international workshop on economic sciences with heterogeneous interacting agents (WEHIA)', 'A disclosure matrix for measuring the quality of corporate online reporting', 'Marketing for higher education institutions: determinants of customers’ satisfaction at a Syrian Business School: Determinants of customers’ satisfaction at a Syrian Business School', 'Impact of four major macroeconomic variables on the stock market indices in Malaysia, China and U.S.', 'An investigation into the main internal capabilities affecting the entry standards to UK universities: A quantitative analysis', 'Educational Attainment and Household Characteristics in Turkey', 'Application of quantitative techniques for the prediction of bank acquisition targets', 'Human capital, trade, FDI and economic growth in Thailand: what causes what?'], 'author_name': ['Thai Nguyen', 'Thang Nguyen', 'Panagiotis Andrikopoulos', 'Jaliyyah Bello', 'Luda Ruddock', 'Simon Huston', 'Huston, S.', 'Huston, S.', 'Piotr Lis', 'Thai Nguyen', 'Thai Nguyen', 'Thang Nguyen', 'Ejike Udeogu', 'Ahmad Abras', 'Hafij Ullah', 'Abdurafiu Noah', 'Lien Luu', 'Abdurafiu Noah', 'Tariq Al Montaser', 'Ahmad Abras', 'Ejike Udeogu', 'Thai Nguyen', 'Lien Luu', 'Eliana Lauretta', 'Simon Huston', 'Judith Kabajulizi', 'Judith Kabajulizi', 'Ahmad Abras', 'Piotr Lis', 'Eliana Lauretta', 'Panagiotis Andrikopoulos', 'Ahmad Abras', 'Eliana Lauretta', 'Piotr Lis', 'Eliana Lauretta', 'Ejike Udeogu', 'Ejike Udeogu', 'Eliana Lauretta', 'Eliana Lauretta', 'Eliana Lauretta', 'Ahmed Saleh', 'Rami Ayoubi', 'Mehdi Hosseini', 'Rami Ayoubi', 'Mehtap Hisarciklilar', 'Sailesh Tanna', 'Sailesh Tanna'], 'pub_date': ['7 Mar 2022', '7 Mar 2022', '7 Mar 2022', '18 Feb 2021', '18 Feb 2021', '7 Aug 2021', '7 Aug 2021', '7 Aug 2021', 'Jul 2021', 'Feb 2020', '28 Jan 2020', '28 Jan 2020', '2019', '2019', '2019', '11 Sep 2019', '11 Jan 2019', '11 Jul 2019', '9 Apr 2019', '2019', '4 Jul 2018', '26 Dec 2018', '10 Mar 2017', '2017', '14 Sep 2017', '30 Jun 2017', '30 Jun 2017', '2017', '22 Mar 2016', '2016', '2016', '2016', '2015', '31 Jan 2015', '2015', '2015', '2014', '2014', '2013', '23 Jun 2013', '2012', '12 Apr 2011', '2009', '14 Mar 2007', '2006', '2005', '2005'], 'aut_link': ['https://pureportal.coventry.ac.uk/en/persons/thai-nguyen', 'https://pureportal.coventry.ac.uk/en/persons/thang-nguyen', 'https://pureportal.coventry.ac.uk/en/persons/panagiotis-andrikopoulos', 'https://pureportal.coventry.ac.uk/en/persons/jaliyyah-bello', 'https://pureportal.coventry.ac.uk/en/persons/luda-ruddock', 'https://pureportal.coventry.ac.uk/en/persons/simon-huston', 'https://pureportal.coventry.ac.uk/en/persons/simon-huston', 'https://pureportal.coventry.ac.uk/en/persons/simon-huston', 'https://pureportal.coventry.ac.uk/en/persons/piotr-lis', 'https://pureportal.coventry.ac.uk/en/persons/thai-nguyen', 'https://pureportal.coventry.ac.uk/en/persons/thai-nguyen', 'https://pureportal.coventry.ac.uk/en/persons/thang-nguyen', 'https://pureportal.coventry.ac.uk/en/persons/ejike-udeogu', 'https://pureportal.coventry.ac.uk/en/persons/ahmad-abras', 'https://pureportal.coventry.ac.uk/en/persons/hafij-ullah', 'https://pureportal.coventry.ac.uk/en/persons/abdurafiu-noah', 'https://pureportal.coventry.ac.uk/en/persons/lien-luu', 'https://pureportal.coventry.ac.uk/en/persons/abdurafiu-noah', 'https://pureportal.coventry.ac.uk/en/persons/tariq-al-montaser', 'https://pureportal.coventry.ac.uk/en/persons/ahmad-abras', 'https://pureportal.coventry.ac.uk/en/persons/ejike-udeogu', 'https://pureportal.coventry.ac.uk/en/persons/thai-nguyen', 'https://pureportal.coventry.ac.uk/en/persons/lien-luu', 'https://pureportal.coventry.ac.uk/en/persons/eliana-lauretta', 'https://pureportal.coventry.ac.uk/en/persons/simon-huston', 'https://pureportal.coventry.ac.uk/en/persons/judith-kabajulizi', 'https://pureportal.coventry.ac.uk/en/persons/judith-kabajulizi', 'https://pureportal.coventry.ac.uk/en/persons/ahmad-abras', 'https://pureportal.coventry.ac.uk/en/persons/piotr-lis', 'https://pureportal.coventry.ac.uk/en/persons/eliana-lauretta', 'https://pureportal.coventry.ac.uk/en/persons/panagiotis-andrikopoulos', 'https://pureportal.coventry.ac.uk/en/persons/ahmad-abras', 'https://pureportal.coventry.ac.uk/en/persons/eliana-lauretta', 'https://pureportal.coventry.ac.uk/en/persons/piotr-lis', 'https://pureportal.coventry.ac.uk/en/persons/eliana-lauretta', 'https://pureportal.coventry.ac.uk/en/persons/ejike-udeogu', 'https://pureportal.coventry.ac.uk/en/persons/ejike-udeogu', 'https://pureportal.coventry.ac.uk/en/persons/eliana-lauretta', 'https://pureportal.coventry.ac.uk/en/persons/eliana-lauretta', 'https://pureportal.coventry.ac.uk/en/persons/eliana-lauretta', 'https://pureportal.coventry.ac.uk/en/persons/ahmed-saleh', 'https://pureportal.coventry.ac.uk/en/persons/rami-ayoubi', 'https://pureportal.coventry.ac.uk/en/persons/mehdi-hosseini', 'https://pureportal.coventry.ac.uk/en/persons/rami-ayoubi', 'https://pureportal.coventry.ac.uk/en/persons/mehtap-hisarciklilar', 'https://pureportal.coventry.ac.uk/en/persons/sailesh-tanna', 'https://pureportal.coventry.ac.uk/en/persons/sailesh-tanna'], 'pub_link': ['https://pureportal.coventry.ac.uk/en/publications/ceo-financial-experience-and-firms-earnings-management-in-mampa-t', 'https://pureportal.coventry.ac.uk/en/publications/ceo-financial-experience-and-firms-earnings-management-in-mampa-t', 'https://pureportal.coventry.ac.uk/en/publications/ceo-financial-experience-and-firms-earnings-management-in-mampa-t', 'https://pureportal.coventry.ac.uk/en/publications/finding-our-place-in-the-world-with-the-sustainable-development-g', 'https://pureportal.coventry.ac.uk/en/publications/finding-our-place-in-the-world-with-the-sustainable-development-g', 'https://pureportal.coventry.ac.uk/en/publications/french-indochina-war-reflections-for-strategic-resilience', 'https://pureportal.coventry.ac.uk/en/publications/french-indochina-war-reflections-for-strategic-resilience', 'https://pureportal.coventry.ac.uk/en/publications/french-indochina-war-reflections-for-strategic-resilience', 'https://pureportal.coventry.ac.uk/en/publications/trade-wins-or-trade-wars-the-perceptions-and-knowledge-in-the-fre', 'https://pureportal.coventry.ac.uk/en/publications/earnings-management-by-share-financed-acquirers-prior-to-deal-ann', 'https://pureportal.coventry.ac.uk/en/publications/effects-of-director-networks-on-acquiring-firms-earnings-manageme', 'https://pureportal.coventry.ac.uk/en/publications/effects-of-director-networks-on-acquiring-firms-earnings-manageme', 'https://pureportal.coventry.ac.uk/en/publications/an-empirical-review-of-the-long-term-impact-of-rampd-expenditure-', 'https://pureportal.coventry.ac.uk/en/publications/competing-institutional-logics-and-institutional-embeddedness-of-', 'https://pureportal.coventry.ac.uk/en/publications/compliance-with-mercury-reporting-provisions-under-the-minamata-c', 'https://pureportal.coventry.ac.uk/en/publications/corporate-environmental-accountability-in-nigeria-the-role-of-loc-2', 'https://pureportal.coventry.ac.uk/en/publications/essential-personal-finance-a-practical-guide-for-employees', 'https://pureportal.coventry.ac.uk/en/publications/family-controlled-financial-institutions-an-institutional-perspec', 'https://pureportal.coventry.ac.uk/en/publications/new-approaches-in-assessing-csr-amp-sustainability-disclosure-ins', 'https://pureportal.coventry.ac.uk/en/publications/political-ideology-and-ngo-accountability-the-case-of-the-syrian-', 'https://pureportal.coventry.ac.uk/en/publications/financialisation-capital-accumulation-and-economic-development-in', 'https://pureportal.coventry.ac.uk/en/publications/revisiting-the-evidence-of-earnings-management-prior-to-merger-an', 'https://pureportal.coventry.ac.uk/en/publications/essential-personal-finance-a-practical-guide-for-students', 'https://pureportal.coventry.ac.uk/en/publications/financial-innovation-banking-system-and-housing-market', 'https://pureportal.coventry.ac.uk/en/publications/smart-urban-regeneration-visions-institutions-and-mechanisms-for-', 'https://pureportal.coventry.ac.uk/en/publications/the-welfare-implications-of-public-healthcare-financing-a-macro-m', 'https://pureportal.coventry.ac.uk/en/publications/the-welfare-implications-of-public-healthcare-financing-a-macro-m', 'https://pureportal.coventry.ac.uk/en/publications/understanding-islamic-financial-reporting-standardisation-project', 'https://pureportal.coventry.ac.uk/en/publications/basic-mathematics-for-economists', 'https://pureportal.coventry.ac.uk/en/publications/financial-innovation-banking-system-and-housing-market-is-the-con', 'https://pureportal.coventry.ac.uk/en/publications/handbook-of-frontier-markets-african-european-and-asian-evidence', 'https://pureportal.coventry.ac.uk/en/publications/islamic-financial-reporting-standardisation-projects-institutiona', 'https://pureportal.coventry.ac.uk/en/publications/a-finance-led-economic-system-an-abm-experimentation-and-policy-p', 'https://pureportal.coventry.ac.uk/en/publications/fatality-sensitivity-in-coalition-countries-a-study-of-british-po', 'https://pureportal.coventry.ac.uk/en/publications/finance-growth-virtuous-and-dis-virtuous-cycles-vdcs-theory-and-e', 'https://pureportal.coventry.ac.uk/en/publications/re-examining-the-financial-deepening-growth-nexus-a-time-series-e', 'https://pureportal.coventry.ac.uk/en/publications/the-rate-of-profit-financialisation-and-economic-growth-a-theoret', 'https://pureportal.coventry.ac.uk/en/publications/virtuous-to-bad-cycles-in-the-finance-growth-relationship', 'https://pureportal.coventry.ac.uk/en/publications/finance-and-growth-understanding-the-switch-from-virtuous-to-bad-', 'https://pureportal.coventry.ac.uk/en/publications/presentation-in-the-international-workshop-on-economic-sciences-w', 'https://pureportal.coventry.ac.uk/en/publications/a-disclosure-matrix-for-measuring-the-quality-of-corporate-online', 'https://pureportal.coventry.ac.uk/en/publications/marketing-for-higher-education-institutions-determinants-of-custo', 'https://pureportal.coventry.ac.uk/en/publications/impact-of-four-major-macroeconomic-variables-on-the-stock-market-', 'https://pureportal.coventry.ac.uk/en/publications/an-investigation-into-the-main-internal-capabilities-affecting-th', 'https://pureportal.coventry.ac.uk/en/publications/educational-attainment-and-household-characteristics-in-turkey', 'https://pureportal.coventry.ac.uk/en/publications/application-of-quantitative-techniques-for-the-prediction-of-bank-2', 'https://pureportal.coventry.ac.uk/en/publications/human-capital-trade-fdi-and-economic-growth-in-thailand-what-caus-2']}\n"
     ]
    }
   ],
   "source": [
    "from bs4 import BeautifulSoup\n",
    "import requests\n",
    "import pandas as pd\n",
    "import csv\n",
    "pub_data={'title':[],'author_name':[],'pub_date':[],'aut_link':[],'pub_link':[]}\n",
    "def get_pub_links(url):\n",
    "    for i in url_list:\n",
    "        req=requests.get(i)\n",
    "        sup=BeautifulSoup(req.text,'html.parser')\n",
    "        links=sup.select('h3.title a')\n",
    "        for link in links:\n",
    "            pub_url=link.get('href')\n",
    "            new_req=requests.get(pub_url)\n",
    "            new_sup=BeautifulSoup(new_req.text,'html.parser')\n",
    "            if new_sup.find('a',class_='link person') is not None:\n",
    "                if new_sup.find('span',class_=\"type_classification\") is not None:\n",
    "                    if (new_sup.find('span',class_=\"type_classification\").string)=='Paper' or \\\n",
    "                    (new_sup.find('span',class_=\"type_classification\").string)=='Book':\n",
    "                        for aut in new_sup.find_all('a',class_='link person'):\n",
    "                            pub_data['author_name'].append(aut.string)\n",
    "                            pub_data['aut_link'].append(aut.get('href'))\n",
    "                            for title in new_sup.find('h1'):\n",
    "                                pub_data['title'].append(title.string)\n",
    "                                pub_data['pub_link'].append(pub_url)\n",
    "                            for date in new_sup.select('tr.status td span.date'):\n",
    "                                pub_data['pub_date'].append(date.string) \n",
    "    print(pub_data)\n",
    "\n",
    "get_pub_links(url)"
   ]
  },
  {
   "cell_type": "code",
   "execution_count": 8,
   "id": "0504498a",
   "metadata": {
    "scrolled": false
   },
   "outputs": [
    {
     "data": {
      "text/html": [
       "<div>\n",
       "<style scoped>\n",
       "    .dataframe tbody tr th:only-of-type {\n",
       "        vertical-align: middle;\n",
       "    }\n",
       "\n",
       "    .dataframe tbody tr th {\n",
       "        vertical-align: top;\n",
       "    }\n",
       "\n",
       "    .dataframe thead th {\n",
       "        text-align: right;\n",
       "    }\n",
       "</style>\n",
       "<table border=\"1\" class=\"dataframe\">\n",
       "  <thead>\n",
       "    <tr style=\"text-align: right;\">\n",
       "      <th></th>\n",
       "      <th>title</th>\n",
       "      <th>author_name</th>\n",
       "      <th>pub_date</th>\n",
       "      <th>aut_link</th>\n",
       "      <th>pub_link</th>\n",
       "    </tr>\n",
       "  </thead>\n",
       "  <tbody>\n",
       "    <tr>\n",
       "      <th>0</th>\n",
       "      <td>CEO Financial Experience and Firms’ Earnings M...</td>\n",
       "      <td>Thai Nguyen</td>\n",
       "      <td>7 Mar 2022</td>\n",
       "      <td>https://pureportal.coventry.ac.uk/en/persons/t...</td>\n",
       "      <td>https://pureportal.coventry.ac.uk/en/publicati...</td>\n",
       "    </tr>\n",
       "    <tr>\n",
       "      <th>1</th>\n",
       "      <td>CEO Financial Experience and Firms’ Earnings M...</td>\n",
       "      <td>Thang Nguyen</td>\n",
       "      <td>7 Mar 2022</td>\n",
       "      <td>https://pureportal.coventry.ac.uk/en/persons/t...</td>\n",
       "      <td>https://pureportal.coventry.ac.uk/en/publicati...</td>\n",
       "    </tr>\n",
       "    <tr>\n",
       "      <th>2</th>\n",
       "      <td>CEO Financial Experience and Firms’ Earnings M...</td>\n",
       "      <td>Panagiotis Andrikopoulos</td>\n",
       "      <td>7 Mar 2022</td>\n",
       "      <td>https://pureportal.coventry.ac.uk/en/persons/p...</td>\n",
       "      <td>https://pureportal.coventry.ac.uk/en/publicati...</td>\n",
       "    </tr>\n",
       "    <tr>\n",
       "      <th>3</th>\n",
       "      <td>Finding our place in the world with the Sustai...</td>\n",
       "      <td>Jaliyyah Bello</td>\n",
       "      <td>18 Feb 2021</td>\n",
       "      <td>https://pureportal.coventry.ac.uk/en/persons/j...</td>\n",
       "      <td>https://pureportal.coventry.ac.uk/en/publicati...</td>\n",
       "    </tr>\n",
       "    <tr>\n",
       "      <th>4</th>\n",
       "      <td>Finding our place in the world with the Sustai...</td>\n",
       "      <td>Luda Ruddock</td>\n",
       "      <td>18 Feb 2021</td>\n",
       "      <td>https://pureportal.coventry.ac.uk/en/persons/l...</td>\n",
       "      <td>https://pureportal.coventry.ac.uk/en/publicati...</td>\n",
       "    </tr>\n",
       "  </tbody>\n",
       "</table>\n",
       "</div>"
      ],
      "text/plain": [
       "                                               title  \\\n",
       "0  CEO Financial Experience and Firms’ Earnings M...   \n",
       "1  CEO Financial Experience and Firms’ Earnings M...   \n",
       "2  CEO Financial Experience and Firms’ Earnings M...   \n",
       "3  Finding our place in the world with the Sustai...   \n",
       "4  Finding our place in the world with the Sustai...   \n",
       "\n",
       "                author_name     pub_date  \\\n",
       "0               Thai Nguyen   7 Mar 2022   \n",
       "1              Thang Nguyen   7 Mar 2022   \n",
       "2  Panagiotis Andrikopoulos   7 Mar 2022   \n",
       "3            Jaliyyah Bello  18 Feb 2021   \n",
       "4              Luda Ruddock  18 Feb 2021   \n",
       "\n",
       "                                            aut_link  \\\n",
       "0  https://pureportal.coventry.ac.uk/en/persons/t...   \n",
       "1  https://pureportal.coventry.ac.uk/en/persons/t...   \n",
       "2  https://pureportal.coventry.ac.uk/en/persons/p...   \n",
       "3  https://pureportal.coventry.ac.uk/en/persons/j...   \n",
       "4  https://pureportal.coventry.ac.uk/en/persons/l...   \n",
       "\n",
       "                                            pub_link  \n",
       "0  https://pureportal.coventry.ac.uk/en/publicati...  \n",
       "1  https://pureportal.coventry.ac.uk/en/publicati...  \n",
       "2  https://pureportal.coventry.ac.uk/en/publicati...  \n",
       "3  https://pureportal.coventry.ac.uk/en/publicati...  \n",
       "4  https://pureportal.coventry.ac.uk/en/publicati...  "
      ]
     },
     "execution_count": 8,
     "metadata": {},
     "output_type": "execute_result"
    }
   ],
   "source": [
    "pubdata=pd.DataFrame(pub_data)\n",
    "pubdata.head()"
   ]
  },
  {
   "cell_type": "markdown",
   "id": "2503b043",
   "metadata": {},
   "source": [
    "## Removing punctuations in data"
   ]
  },
  {
   "cell_type": "code",
   "execution_count": 9,
   "id": "ba01d905",
   "metadata": {
    "scrolled": false
   },
   "outputs": [
    {
     "name": "stdout",
     "output_type": "stream",
     "text": [
      "['CEO Financial Experience and Firms  Earnings Management in M A  the importance of Experience Specificity', 'CEO Financial Experience and Firms  Earnings Management in M A  the importance of Experience Specificity', 'CEO Financial Experience and Firms  Earnings Management in M A  the importance of Experience Specificity', 'Finding our place in the world with the Sustainable Development Goals', 'Finding our place in the world with the Sustainable Development Goals', 'French Indochina War  Reflections for strategic resilience', 'French Indochina War  Reflections for strategic resilience', 'French Indochina War  Reflections for strategic resilience', 'Trade Wins or Trade Wars  The Perceptions and Knowledge in the Free Trade Debate', 'Earnings management by share financed acquirers prior to deal announcements  The roles of financial expertise  tenure and reputation ', 'Effects of director networks on acquiring firms  earnings management prior to M A', 'Effects of director networks on acquiring firms  earnings management prior to M A', 'An Empirical Review of the Long Term Impact of R D Expenditure and Capital Accumulation on GDP per Capita', 'Competing institutional logics and institutional embeddedness of actors in Islamic financial reporting standardisation  A comparative study', 'Compliance with Mercury Reporting Provisions under the Minamata Convention  An Assessment from a Developing Country Perspective', 'Corporate environmental accountability in Nigeria  the role of Local Community', 'Essential Personal Finance   A Practical Guide for Employees', 'Family controlled      financial institutions  An institutional perspective on service quality management', 'New Approaches in Assessing CSR   Sustainability Disclosure  Insights into the Updateability of Web based Data', 'Political ideology and NGO accountability  the case of the Syrian conflict', 'Financialisation  Capital Accumulation and Economic Development in Nigeria  A critical perspective  ', 'Revisiting the evidence of earnings management prior to merger announcements  an application of Benford s law', 'Essential Personal Finance  A Practical Guide for Students', 'Financial Innovation  Banking System and Housing Market ', 'Smart urban regeneration  Visions  institutions and mechanisms for real estate', 'The welfare implications of public healthcare financing  A Macro Micro simulation analysis of Uganda', 'The welfare implications of public healthcare financing  A Macro Micro simulation analysis of Uganda', 'Understanding Islamic financial reporting standardisation projects  institutional logics perspective', 'Basic Mathematics for Economists', 'Financial Innovation  Banking System and Housing Market  Is the Concept of Financial Innovation Enough to Explain the Banks  Regulatory Arbitrage ', 'Handbook of Frontier Markets  African  European and Asian Evidence', 'Islamic financial reporting standardisation projects  institutional logics perspective on the Malaysian case', 'What Drives Corporate Governance Quality in Emerging African Economies  Evidence from Ghana   Conference Paper', 'What Drives Corporate Governance Quality in Emerging African Economies  Evidence from Ghana   Conference Paper', 'A Finance led Economic System  An ABM Experimentation and Policy Proposals', 'Fatality Sensitivity in Coalition Countries  A Study of British  Polish and Australian Public Opinion on the Iraq War', 'Finance Growth  Virtuous and Dis Virtuous Cycles  VDCs  Theory and Empirical Evidence', 'Re Examining the Financial Deepening Growth Nexus  A Time Series Evidence of the Nigerian Economy from 1961 to 2013', 'The Rate of Profit  Financialisation and Economic Growth  A theoretical and empirical investigation of the Nigerian Economy', ' Virtuous  To  Bad  Cycles in the Finance Growth Relationship', 'Finance and Growth  Understanding the Switch from “Virtuous” To “Bad” Cycles in the Finance Growth Relationship', 'Presentation in the international workshop on economic sciences with heterogeneous interacting agents  WEHIA ', 'A disclosure matrix for measuring the quality of corporate online reporting', 'Marketing for higher education institutions  determinants of customers  satisfaction at a Syrian Business School  Determinants of customers  satisfaction at a Syrian Business School', 'Impact of four major macroeconomic variables on the stock market indices in Malaysia  China and U S ', 'An investigation into the main internal capabilities affecting the entry standards to UK universities  A quantitative analysis', 'Educational Attainment and Household Characteristics in Turkey', 'Application of quantitative techniques for the prediction of bank acquisition targets', 'Human capital  trade  FDI and economic growth in Thailand  what causes what ']\n"
     ]
    }
   ],
   "source": [
    "pubdata=pd.DataFrame(pub_data)\n",
    "pubdata\n",
    "title=pubdata['title']\n",
    "punc = '''!()-[]{};:'\"\\, <>./?@#$%^&*_~’'''\n",
    "for ele in title:\n",
    "    for i in ele:\n",
    "        if i in punc:\n",
    "            title=list(map(lambda x: x.replace(i ,' '), title))\n",
    "print(title)"
   ]
  },
  {
   "cell_type": "markdown",
   "id": "94bd349c",
   "metadata": {},
   "source": [
    "## Stop words"
   ]
  },
  {
   "cell_type": "code",
   "execution_count": 10,
   "id": "75c72e39",
   "metadata": {},
   "outputs": [
    {
     "name": "stdout",
     "output_type": "stream",
     "text": [
      "['i', 'me', 'my', 'myself', 'we', 'our', 'ours', 'ourselves', 'you', \"you're\", \"you've\", \"you'll\", \"you'd\", 'your', 'yours', 'yourself', 'yourselves', 'he', 'him', 'his', 'himself', 'she', \"she's\", 'her', 'hers', 'herself', 'it', \"it's\", 'its', 'itself', 'they', 'them', 'their', 'theirs', 'themselves', 'what', 'which', 'who', 'whom', 'this', 'that', \"that'll\", 'these', 'those', 'am', 'is', 'are', 'was', 'were', 'be', 'been', 'being', 'have', 'has', 'had', 'having', 'do', 'does', 'did', 'doing', 'a', 'an', 'the', 'and', 'but', 'if', 'or', 'because', 'as', 'until', 'while', 'of', 'at', 'by', 'for', 'with', 'about', 'against', 'between', 'into', 'through', 'during', 'before', 'after', 'above', 'below', 'to', 'from', 'up', 'down', 'in', 'out', 'on', 'off', 'over', 'under', 'again', 'further', 'then', 'once', 'here', 'there', 'when', 'where', 'why', 'how', 'all', 'any', 'both', 'each', 'few', 'more', 'most', 'other', 'some', 'such', 'no', 'nor', 'not', 'only', 'own', 'same', 'so', 'than', 'too', 'very', 's', 't', 'can', 'will', 'just', 'don', \"don't\", 'should', \"should've\", 'now', 'd', 'll', 'm', 'o', 're', 've', 'y', 'ain', 'aren', \"aren't\", 'couldn', \"couldn't\", 'didn', \"didn't\", 'doesn', \"doesn't\", 'hadn', \"hadn't\", 'hasn', \"hasn't\", 'haven', \"haven't\", 'isn', \"isn't\", 'ma', 'mightn', \"mightn't\", 'mustn', \"mustn't\", 'needn', \"needn't\", 'shan', \"shan't\", 'shouldn', \"shouldn't\", 'wasn', \"wasn't\", 'weren', \"weren't\", 'won', \"won't\", 'wouldn', \"wouldn't\"]\n"
     ]
    },
    {
     "name": "stderr",
     "output_type": "stream",
     "text": [
      "[nltk_data] Downloading package stopwords to\n",
      "[nltk_data]     C:\\Users\\pagid\\AppData\\Roaming\\nltk_data...\n",
      "[nltk_data]   Package stopwords is already up-to-date!\n",
      "[nltk_data] Downloading package punkt to\n",
      "[nltk_data]     C:\\Users\\pagid\\AppData\\Roaming\\nltk_data...\n",
      "[nltk_data]   Package punkt is already up-to-date!\n"
     ]
    }
   ],
   "source": [
    "import nltk\n",
    "from nltk.corpus import stopwords\n",
    "from nltk.tokenize import word_tokenize\n",
    "from nltk.stem import PorterStemmer\n",
    "nltk.download(\"stopwords\")\n",
    "nltk.download(\"punkt\")\n",
    "stpwd = stopwords.words('english')\n",
    "print(stpwd)"
   ]
  },
  {
   "cell_type": "markdown",
   "id": "e535b9c7",
   "metadata": {},
   "source": [
    "## Removing Stop words"
   ]
  },
  {
   "cell_type": "code",
   "execution_count": 11,
   "id": "72d8b014",
   "metadata": {
    "scrolled": false
   },
   "outputs": [
    {
     "name": "stdout",
     "output_type": "stream",
     "text": [
      "['ceo financi experi firm earn manag m a import experi specif ', 'ceo financi experi firm earn manag m a import experi specif ', 'ceo financi experi firm earn manag m a import experi specif ', 'find place world sustain develop goal ', 'find place world sustain develop goal ', 'french indochina war reflect strateg resili ', 'french indochina war reflect strateg resili ', 'french indochina war reflect strateg resili ', 'trade win trade war the percept knowledg free trade debat ', 'earn manag share financ acquir prior deal announc the role financi expertis tenur reput ', 'effect director network acquir firm earn manag prior m a ', 'effect director network acquir firm earn manag prior m a ', 'an empir review long term impact r d expenditur capit accumul gdp per capita ', 'compet institut logic institut embedded actor islam financi report standardis a compar studi ', 'complianc mercuri report provis minamata convent an assess develop countri perspect ', 'corpor environment account nigeria role local commun ', 'essenti person financ a practic guid employe ', 'famili control financi institut an institut perspect servic qualiti manag ', 'new approach assess csr sustain disclosur insight updat web base data ', 'polit ideolog ngo account case syrian conflict ', 'financialis capit accumul econom develop nigeria a critic perspect ', 'revisit evid earn manag prior merger announc applic benford law ', 'essenti person financ a practic guid student ', 'financi innov bank system hous market ', 'smart urban regener vision institut mechan real estat ', 'the welfar implic public healthcar financ a macro micro simul analysi uganda ', 'the welfar implic public healthcar financ a macro micro simul analysi uganda ', 'understand islam financi report standardis project institut logic perspect ', 'basic mathemat economist ', 'financi innov bank system hous market is concept financi innov enough explain bank regulatori arbitrag ', 'handbook frontier market african european asian evid ', 'islam financi report standardis project institut logic perspect malaysian case ', 'what drive corpor govern qualiti emerg african economi evid ghana confer paper ', 'what drive corpor govern qualiti emerg african economi evid ghana confer paper ', 'a financ led econom system an abm experiment polici propos ', 'fatal sensit coalit countri a studi british polish australian public opinion iraq war ', 'financ growth virtuou di virtuou cycl vdc theori empir evid ', 're examin financi deepen growth nexu a time seri evid nigerian economi 1961 2013 ', 'the rate profit financialis econom growth a theoret empir investig nigerian economi ', 'virtuou to bad cycl financ growth relationship ', 'financ growth understand switch “ virtuou ” to “ bad ” cycl financ growth relationship ', 'present intern workshop econom scienc heterogen interact agent wehia ', 'a disclosur matrix measur qualiti corpor onlin report ', 'market higher educ institut determin custom satisfact syrian busi school determin custom satisfact syrian busi school ', 'impact four major macroeconom variabl stock market indic malaysia china u s ', 'an investig main intern capabl affect entri standard uk univers a quantit analysi ', 'educ attain household characterist turkey ', 'applic quantit techniqu predict bank acquisit target ', 'human capit trade fdi econom growth thailand caus ']\n"
     ]
    },
    {
     "name": "stderr",
     "output_type": "stream",
     "text": [
      "[nltk_data] Downloading package stopwords to\n",
      "[nltk_data]     C:\\Users\\pagid\\AppData\\Roaming\\nltk_data...\n",
      "[nltk_data]   Package stopwords is already up-to-date!\n",
      "[nltk_data] Downloading package punkt to\n",
      "[nltk_data]     C:\\Users\\pagid\\AppData\\Roaming\\nltk_data...\n",
      "[nltk_data]   Package punkt is already up-to-date!\n"
     ]
    }
   ],
   "source": [
    "import nltk\n",
    "from nltk.corpus import stopwords\n",
    "from nltk.tokenize import word_tokenize\n",
    "from nltk.stem import PorterStemmer\n",
    "nltk.download(\"stopwords\")\n",
    "nltk.download(\"punkt\")\n",
    "sw = stopwords.words('english')\n",
    "ps = PorterStemmer()\n",
    "filtered_pub = []\n",
    "\n",
    "for text in title:\n",
    "        tokens = word_tokenize(text)\n",
    "        tmp = \"\"\n",
    "        for w in tokens:\n",
    "            if w not in sw:\n",
    "                tmp += ps.stem(w) + \" \"\n",
    "        filtered_pub.append(tmp)\n",
    "print(filtered_pub)"
   ]
  },
  {
   "cell_type": "markdown",
   "id": "8c45dfba",
   "metadata": {},
   "source": [
    "## Concatinating clean title in final DataFrame"
   ]
  },
  {
   "cell_type": "code",
   "execution_count": 12,
   "id": "6cc19b9a",
   "metadata": {
    "scrolled": false
   },
   "outputs": [
    {
     "data": {
      "text/html": [
       "<div>\n",
       "<style scoped>\n",
       "    .dataframe tbody tr th:only-of-type {\n",
       "        vertical-align: middle;\n",
       "    }\n",
       "\n",
       "    .dataframe tbody tr th {\n",
       "        vertical-align: top;\n",
       "    }\n",
       "\n",
       "    .dataframe thead th {\n",
       "        text-align: right;\n",
       "    }\n",
       "</style>\n",
       "<table border=\"1\" class=\"dataframe\">\n",
       "  <thead>\n",
       "    <tr style=\"text-align: right;\">\n",
       "      <th></th>\n",
       "      <th>title</th>\n",
       "      <th>author_name</th>\n",
       "      <th>pub_date</th>\n",
       "      <th>aut_link</th>\n",
       "      <th>pub_link</th>\n",
       "      <th>clean_title</th>\n",
       "    </tr>\n",
       "  </thead>\n",
       "  <tbody>\n",
       "    <tr>\n",
       "      <th>0</th>\n",
       "      <td>CEO Financial Experience and Firms’ Earnings M...</td>\n",
       "      <td>Thai Nguyen</td>\n",
       "      <td>7 Mar 2022</td>\n",
       "      <td>https://pureportal.coventry.ac.uk/en/persons/t...</td>\n",
       "      <td>https://pureportal.coventry.ac.uk/en/publicati...</td>\n",
       "      <td>ceo financi experi firm earn manag m a import ...</td>\n",
       "    </tr>\n",
       "    <tr>\n",
       "      <th>1</th>\n",
       "      <td>CEO Financial Experience and Firms’ Earnings M...</td>\n",
       "      <td>Thang Nguyen</td>\n",
       "      <td>7 Mar 2022</td>\n",
       "      <td>https://pureportal.coventry.ac.uk/en/persons/t...</td>\n",
       "      <td>https://pureportal.coventry.ac.uk/en/publicati...</td>\n",
       "      <td>ceo financi experi firm earn manag m a import ...</td>\n",
       "    </tr>\n",
       "    <tr>\n",
       "      <th>2</th>\n",
       "      <td>CEO Financial Experience and Firms’ Earnings M...</td>\n",
       "      <td>Panagiotis Andrikopoulos</td>\n",
       "      <td>7 Mar 2022</td>\n",
       "      <td>https://pureportal.coventry.ac.uk/en/persons/p...</td>\n",
       "      <td>https://pureportal.coventry.ac.uk/en/publicati...</td>\n",
       "      <td>ceo financi experi firm earn manag m a import ...</td>\n",
       "    </tr>\n",
       "    <tr>\n",
       "      <th>3</th>\n",
       "      <td>Finding our place in the world with the Sustai...</td>\n",
       "      <td>Jaliyyah Bello</td>\n",
       "      <td>18 Feb 2021</td>\n",
       "      <td>https://pureportal.coventry.ac.uk/en/persons/j...</td>\n",
       "      <td>https://pureportal.coventry.ac.uk/en/publicati...</td>\n",
       "      <td>find place world sustain develop goal</td>\n",
       "    </tr>\n",
       "    <tr>\n",
       "      <th>4</th>\n",
       "      <td>Finding our place in the world with the Sustai...</td>\n",
       "      <td>Luda Ruddock</td>\n",
       "      <td>18 Feb 2021</td>\n",
       "      <td>https://pureportal.coventry.ac.uk/en/persons/l...</td>\n",
       "      <td>https://pureportal.coventry.ac.uk/en/publicati...</td>\n",
       "      <td>find place world sustain develop goal</td>\n",
       "    </tr>\n",
       "  </tbody>\n",
       "</table>\n",
       "</div>"
      ],
      "text/plain": [
       "                                               title  \\\n",
       "0  CEO Financial Experience and Firms’ Earnings M...   \n",
       "1  CEO Financial Experience and Firms’ Earnings M...   \n",
       "2  CEO Financial Experience and Firms’ Earnings M...   \n",
       "3  Finding our place in the world with the Sustai...   \n",
       "4  Finding our place in the world with the Sustai...   \n",
       "\n",
       "                author_name     pub_date  \\\n",
       "0               Thai Nguyen   7 Mar 2022   \n",
       "1              Thang Nguyen   7 Mar 2022   \n",
       "2  Panagiotis Andrikopoulos   7 Mar 2022   \n",
       "3            Jaliyyah Bello  18 Feb 2021   \n",
       "4              Luda Ruddock  18 Feb 2021   \n",
       "\n",
       "                                            aut_link  \\\n",
       "0  https://pureportal.coventry.ac.uk/en/persons/t...   \n",
       "1  https://pureportal.coventry.ac.uk/en/persons/t...   \n",
       "2  https://pureportal.coventry.ac.uk/en/persons/p...   \n",
       "3  https://pureportal.coventry.ac.uk/en/persons/j...   \n",
       "4  https://pureportal.coventry.ac.uk/en/persons/l...   \n",
       "\n",
       "                                            pub_link  \\\n",
       "0  https://pureportal.coventry.ac.uk/en/publicati...   \n",
       "1  https://pureportal.coventry.ac.uk/en/publicati...   \n",
       "2  https://pureportal.coventry.ac.uk/en/publicati...   \n",
       "3  https://pureportal.coventry.ac.uk/en/publicati...   \n",
       "4  https://pureportal.coventry.ac.uk/en/publicati...   \n",
       "\n",
       "                                         clean_title  \n",
       "0  ceo financi experi firm earn manag m a import ...  \n",
       "1  ceo financi experi firm earn manag m a import ...  \n",
       "2  ceo financi experi firm earn manag m a import ...  \n",
       "3             find place world sustain develop goal   \n",
       "4             find place world sustain develop goal   "
      ]
     },
     "execution_count": 12,
     "metadata": {},
     "output_type": "execute_result"
    }
   ],
   "source": [
    "new_filter=pd.DataFrame({\"clean_title\":filtered_pub})\n",
    "pubdata_filter=pd.concat([pubdata,new_filter],axis=1,join='inner')\n",
    "pubdata_filter.head()"
   ]
  },
  {
   "cell_type": "markdown",
   "id": "5cfe3111",
   "metadata": {},
   "source": [
    "## Invert Indexing the text"
   ]
  },
  {
   "cell_type": "code",
   "execution_count": 13,
   "id": "fda40f08",
   "metadata": {},
   "outputs": [
    {
     "name": "stdout",
     "output_type": "stream",
     "text": [
      "{'human': [49], 'capit': [49], 'trade': [49], 'fdi': [49], 'econom': [49], 'growth': [49], 'thailand': [49], 'caus': [49]}\n"
     ]
    }
   ],
   "source": [
    "list=[]\n",
    "for text in pubdata_filter[\"clean_title\"].str.split():\n",
    "    list.append(text)\n",
    "for i in list:\n",
    "        indexing={word: [(list.index(i))+1] for word in i}\n",
    "print(indexing)"
   ]
  },
  {
   "cell_type": "markdown",
   "id": "47fe5039",
   "metadata": {},
   "source": []
  },
  {
   "cell_type": "code",
   "execution_count": 14,
   "id": "0c42155c",
   "metadata": {
    "scrolled": false
   },
   "outputs": [
    {
     "name": "stdout",
     "output_type": "stream",
     "text": [
      "defaultdict(<class 'set'>, {'ceo': {0, 1, 2}, 'financi': {0, 1, 2, 37, 9, 13, 17, 23, 27, 29, 31}, 'experi': {0, 1, 2}, 'firm': {0, 1, 2, 10, 11}, 'earn': {0, 1, 2, 9, 10, 11, 21}, 'manag': {0, 1, 2, 9, 10, 11, 17, 21}, 'm': {0, 1, 2, 10, 11}, 'a': {0, 1, 2, 34, 35, 37, 38, 10, 11, 42, 13, 45, 16, 20, 22, 25, 26}, 'import': {0, 1, 2}, 'specif': {0, 1, 2}, 'find': {3, 4}, 'place': {3, 4}, 'world': {3, 4}, 'sustain': {18, 3, 4}, 'develop': {3, 4, 20, 14}, 'goal': {3, 4}, 'french': {5, 6, 7}, 'indochina': {5, 6, 7}, 'war': {35, 5, 6, 7, 8}, 'reflect': {5, 6, 7}, 'strateg': {5, 6, 7}, 'resili': {5, 6, 7}, 'trade': {8, 48}, 'win': {8}, 'the': {38, 8, 9, 25, 26}, 'percept': {8}, 'knowledg': {8}, 'free': {8}, 'debat': {8}, 'share': {9}, 'financ': {34, 36, 39, 40, 9, 16, 22, 25, 26}, 'acquir': {9, 10, 11}, 'prior': {9, 10, 11, 21}, 'deal': {9}, 'announc': {9, 21}, 'role': {9, 15}, 'expertis': {9}, 'tenur': {9}, 'reput': {9}, 'effect': {10, 11}, 'director': {10, 11}, 'network': {10, 11}, 'an': {34, 12, 45, 14, 17}, 'empir': {38, 12, 36}, 'review': {12}, 'long': {12}, 'term': {12}, 'impact': {12, 44}, 'r': {12}, 'd': {12}, 'expenditur': {12}, 'capit': {48, 12, 20}, 'accumul': {12, 20}, 'gdp': {12}, 'per': {12}, 'capita': {12}, 'compet': {13}, 'institut': {43, 13, 17, 24, 27, 31}, 'logic': {27, 13, 31}, 'embedded': {13}, 'actor': {13}, 'islam': {27, 13, 31}, 'report': {42, 13, 14, 27, 31}, 'standardis': {27, 13, 31}, 'compar': {13}, 'studi': {35, 13}, 'complianc': {14}, 'mercuri': {14}, 'provis': {14}, 'minamata': {14}, 'convent': {14}, 'assess': {18, 14}, 'countri': {35, 14}, 'perspect': {14, 17, 20, 27, 31}, 'corpor': {32, 33, 42, 15}, 'environment': {15}, 'account': {19, 15}, 'nigeria': {20, 15}, 'local': {15}, 'commun': {15}, 'essenti': {16, 22}, 'person': {16, 22}, 'practic': {16, 22}, 'guid': {16, 22}, 'employe': {16}, 'famili': {17}, 'control': {17}, 'servic': {17}, 'qualiti': {32, 17, 42, 33}, 'new': {18}, 'approach': {18}, 'csr': {18}, 'disclosur': {18, 42}, 'insight': {18}, 'updat': {18}, 'web': {18}, 'base': {18}, 'data': {18}, 'polit': {19}, 'ideolog': {19}, 'ngo': {19}, 'case': {19, 31}, 'syrian': {43, 19}, 'conflict': {19}, 'financialis': {20, 38}, 'econom': {34, 38, 41, 48, 20}, 'critic': {20}, 'revisit': {21}, 'evid': {32, 33, 36, 37, 21, 30}, 'merger': {21}, 'applic': {21, 47}, 'benford': {21}, 'law': {21}, 'student': {22}, 'innov': {29, 23}, 'bank': {47, 29, 23}, 'system': {34, 29, 23}, 'hous': {29, 23}, 'market': {43, 44, 23, 29, 30}, 'smart': {24}, 'urban': {24}, 'regener': {24}, 'vision': {24}, 'mechan': {24}, 'real': {24}, 'estat': {24}, 'welfar': {25, 26}, 'implic': {25, 26}, 'public': {25, 26, 35}, 'healthcar': {25, 26}, 'macro': {25, 26}, 'micro': {25, 26}, 'simul': {25, 26}, 'analysi': {25, 26, 45}, 'uganda': {25, 26}, 'understand': {40, 27}, 'project': {27, 31}, 'basic': {28}, 'mathemat': {28}, 'economist': {28}, 'is': {29}, 'concept': {29}, 'enough': {29}, 'explain': {29}, 'regulatori': {29}, 'arbitrag': {29}, 'handbook': {30}, 'frontier': {30}, 'african': {32, 33, 30}, 'european': {30}, 'asian': {30}, 'malaysian': {31}, 'what': {32, 33}, 'drive': {32, 33}, 'govern': {32, 33}, 'emerg': {32, 33}, 'economi': {32, 33, 37, 38}, 'ghana': {32, 33}, 'confer': {32, 33}, 'paper': {32, 33}, 'led': {34}, 'abm': {34}, 'experiment': {34}, 'polici': {34}, 'propos': {34}, 'fatal': {35}, 'sensit': {35}, 'coalit': {35}, 'british': {35}, 'polish': {35}, 'australian': {35}, 'opinion': {35}, 'iraq': {35}, 'growth': {36, 37, 38, 39, 40, 48}, 'virtuou': {40, 36, 39}, 'di': {36}, 'cycl': {40, 36, 39}, 'vdc': {36}, 'theori': {36}, 're': {37}, 'examin': {37}, 'deepen': {37}, 'nexu': {37}, 'time': {37}, 'seri': {37}, 'nigerian': {37, 38}, '1961': {37}, '2013': {37}, 'rate': {38}, 'profit': {38}, 'theoret': {38}, 'investig': {45, 38}, 'to': {40, 39}, 'bad': {40, 39}, 'relationship': {40, 39}, 'switch': {40}, '“': {40}, '”': {40}, 'present': {41}, 'intern': {41, 45}, 'workshop': {41}, 'scienc': {41}, 'heterogen': {41}, 'interact': {41}, 'agent': {41}, 'wehia': {41}, 'matrix': {42}, 'measur': {42}, 'onlin': {42}, 'higher': {43}, 'educ': {43, 46}, 'determin': {43}, 'custom': {43}, 'satisfact': {43}, 'busi': {43}, 'school': {43}, 'four': {44}, 'major': {44}, 'macroeconom': {44}, 'variabl': {44}, 'stock': {44}, 'indic': {44}, 'malaysia': {44}, 'china': {44}, 'u': {44}, 's': {44}, 'main': {45}, 'capabl': {45}, 'affect': {45}, 'entri': {45}, 'standard': {45}, 'uk': {45}, 'univers': {45}, 'quantit': {45, 47}, 'attain': {46}, 'household': {46}, 'characterist': {46}, 'turkey': {46}, 'techniqu': {47}, 'predict': {47}, 'acquisit': {47}, 'target': {47}, 'human': {48}, 'fdi': {48}, 'thailand': {48}, 'caus': {48}})\n",
      "defaultdict(<class 'set'>, {'Thai': {0, 9, 10, 21}, 'Nguyen': {0, 1, 9, 10, 11, 21}, 'Thang': {1, 11}, 'Panagiotis': {2, 30}, 'Andrikopoulos': {2, 30}, 'Jaliyyah': {3}, 'Bello': {3}, 'Luda': {4}, 'Ruddock': {4}, 'Simon': {24, 5}, 'Huston': {24, 5}, 'Huston,': {6, 7}, 'S.': {6, 7}, 'Piotr': {8, 35, 28}, 'Lis': {8, 35, 28}, 'Ejike': {37, 12, 20, 38}, 'Udeogu': {37, 12, 20, 38}, 'Ahmad': {27, 19, 13, 31}, 'Abras': {27, 19, 13, 31}, 'Hafij': {14}, 'Ullah': {14}, 'Abdurafiu': {17, 15}, 'Noah': {17, 15}, 'Lien': {16, 22}, 'Luu': {16, 22}, 'Tariq': {18}, 'Al': {18}, 'Montaser': {18}, 'Eliana': {34, 36, 39, 40, 41, 23, 29}, 'Lauretta': {34, 36, 39, 40, 41, 23, 29}, 'Judith': {25, 26}, 'Kabajulizi': {25, 26}, 'Andrews': {32, 33}, 'Owusu': {32, 33}, 'Ahmed': {42}, 'Saleh': {42}, 'Rami': {43, 45}, 'Ayoubi': {43, 45}, 'Mehdi': {44}, 'Hosseini': {44}, 'Mehtap': {46}, 'Hisarciklilar': {46}, 'Sailesh': {48, 47}, 'Tanna': {48, 47}})\n",
      "defaultdict(<class 'set'>, {'CEO': {0, 1, 2}, 'Financial': {0, 1, 2, 37, 23, 29}, 'Experience': {0, 1, 2}, 'and': {0, 1, 2, 8, 9, 12, 13, 19, 20, 23, 24, 29, 30, 34, 35, 36, 38, 40, 44, 46, 48}, 'Firms’': {0, 1, 2}, 'Earnings': {0, 1, 2, 9}, 'Management': {0, 1, 2}, 'in': {0, 1, 2, 3, 4, 8, 13, 15, 18, 20, 32, 33, 35, 39, 40, 41, 44, 46, 48}, 'M&A:': {0, 1, 2}, 'the': {0, 1, 2, 3, 4, 8, 12, 14, 15, 18, 19, 21, 29, 31, 35, 37, 38, 39, 40, 41, 42, 44, 45, 47}, 'importance': {0, 1, 2}, 'of': {0, 1, 2, 9, 10, 11, 12, 13, 15, 18, 19, 21, 25, 26, 29, 30, 35, 37, 38, 42, 43, 44, 47}, 'Specificity': {0, 1, 2}, 'Finding': {3, 4}, 'our': {3, 4}, 'place': {3, 4}, 'world': {3, 4}, 'with': {41, 3, 4, 14}, 'Sustainable': {3, 4}, 'Development': {3, 4, 20}, 'Goals': {3, 4}, 'French': {5, 6, 7}, 'Indochina': {5, 6, 7}, 'War:': {5, 6, 7}, 'Reflections': {5, 6, 7}, 'for': {5, 6, 7, 42, 43, 47, 16, 22, 24, 28}, 'strategic': {5, 6, 7}, 'resilience': {5, 6, 7}, 'Trade': {8}, 'Wins': {8}, 'or': {8}, 'Wars:': {8}, 'The': {38, 8, 9, 25, 26}, 'Perceptions': {8}, 'Knowledge': {8}, 'Free': {8}, 'Debate': {8}, 'management': {9, 10, 11, 17, 21}, 'by': {9}, 'share-financed': {9}, 'acquirers': {9}, 'prior': {9, 10, 11, 21}, 'to': {37, 9, 10, 11, 45, 21, 29}, 'deal': {9}, 'announcements:': {9, 21}, 'roles': {9}, 'financial': {9, 13, 17, 27, 31}, 'expertise,': {9}, 'tenure': {9}, 'reputation.': {9}, 'Effects': {10, 11}, 'director': {10, 11}, 'networks': {10, 11}, 'on': {35, 41, 10, 11, 12, 44, 17, 31}, 'acquiring': {10, 11}, \"firms'\": {10, 11}, 'earnings': {10, 11, 21}, 'M&A': {10, 11}, 'An': {34, 12, 45, 14, 17}, 'Empirical': {12, 36}, 'Review': {12}, 'Long-Term': {12}, 'Impact': {12, 44}, 'R&D': {12}, 'Expenditure': {12}, 'Capital': {12, 20}, 'Accumulation': {12, 20}, 'GDP': {12}, 'per': {12}, 'Capita': {12}, 'Competing': {13}, 'institutional': {17, 27, 13, 31}, 'logics': {27, 13, 31}, 'embeddedness': {13}, 'actors': {13}, 'Islamic': {27, 13, 31}, 'reporting': {42, 27, 13, 31}, 'standardisation:': {13}, 'A': {34, 35, 37, 38, 42, 13, 45, 16, 20, 22, 25, 26}, 'comparative': {13}, 'study': {13}, 'Compliance': {14}, 'Mercury': {14}, 'Reporting': {14}, 'Provisions': {14}, 'under': {14}, 'Minamata': {14}, 'Convention:': {14}, 'Assessment': {14}, 'from': {32, 33, 37, 40, 14}, 'a': {43, 14}, 'Developing': {14}, 'Country': {14}, 'Perspective': {14}, 'Corporate': {32, 33, 15}, 'environmental': {15}, 'accountability': {15}, 'Nigeria:': {20, 15}, 'role': {15}, 'Local': {15}, 'Community': {15}, 'Essential': {16, 22}, 'Personal': {16, 22}, 'Finance:': {16, 22}, 'Practical': {16, 22}, 'Guide': {16, 22}, 'Employees': {16}, 'Family-controlled': {17}, 'institutions:': {17, 43}, 'perspective': {17, 27, 31}, 'service': {17}, 'quality': {17, 42}, 'New': {18}, 'Approaches': {18}, 'Assessing': {18}, 'CSR': {18}, '&': {18}, 'Sustainability': {18}, 'Disclosure:': {18}, 'Insights': {18}, 'into': {18, 45}, 'Updateability': {18}, 'Web-based': {18}, 'Data': {18}, 'Political': {19}, 'ideology': {19}, 'NGO': {19}, 'accountability:': {19}, 'case': {19, 31}, 'Syrian': {43, 19}, 'conflict': {19}, 'Financialisation,': {20}, 'Economic': {34, 20, 38}, 'critical': {20}, 'perspective.': {20}, 'Revisiting': {21}, 'evidence': {21}, 'merger': {21}, 'an': {21}, 'application': {21}, 'Benford’s': {21}, 'law': {21}, 'Students': {22}, 'Innovation,': {29, 23}, 'Banking': {29, 23}, 'System': {29, 23}, 'Housing': {29, 23}, 'Market.': {29, 23}, 'Smart': {24}, 'urban': {24}, 'regeneration:': {24}, 'Visions,': {24}, 'institutions': {24}, 'mechanisms': {24}, 'real': {24}, 'estate': {24}, 'welfare': {25, 26}, 'implications': {25, 26}, 'public': {25, 26}, 'healthcare': {25, 26}, 'financing:': {25, 26}, 'Macro-Micro': {25, 26}, 'simulation': {25, 26}, 'analysis': {25, 26, 45}, 'Uganda': {25, 26}, 'Understanding': {40, 27}, 'standardisation': {27, 31}, 'projects:': {27, 31}, 'Basic': {28}, 'Mathematics': {28}, 'Economists': {28}, 'Is': {29}, 'Concept': {29}, 'Innovation': {29}, 'Enough': {29}, 'Explain': {29}, 'Banks’': {29}, 'Regulatory': {29}, 'Arbitrage?': {29}, 'Handbook': {30}, 'Frontier': {30}, 'Markets:': {30}, 'African,': {30}, 'European': {30}, 'Asian': {30}, 'Evidence': {32, 33, 36, 37, 30}, 'Malaysian': {31}, 'What': {32, 33}, 'Drives': {32, 33}, 'Governance': {32, 33}, 'Quality': {32, 33}, 'Emerging': {32, 33}, 'African': {32, 33}, 'Economies?': {32, 33}, 'Ghana': {32, 33}, '-': {32, 33}, 'Conference': {32, 33}, 'Paper': {32, 33}, 'Finance-led': {34}, 'System:': {34}, 'ABM': {34}, 'Experimentation': {34}, 'Policy': {34}, 'Proposals': {34}, 'Fatality': {35}, 'Sensitivity': {35}, 'Coalition': {35}, 'Countries:': {35}, 'Study': {35}, 'British,': {35}, 'Polish': {35}, 'Australian': {35}, 'Public': {35}, 'Opinion': {35}, 'Iraq': {35}, 'War': {35}, 'Finance-Growth:': {36}, 'Virtuous': {36}, 'Dis-Virtuous': {36}, 'Cycles': {40, 36, 39}, '(VDCs)': {36}, 'Theory': {36}, 'Re-Examining': {37}, 'Deepening-Growth': {37}, 'Nexus:': {37}, 'Time-Series': {37}, 'Nigerian': {37, 38}, 'Economy': {37, 38}, '1961': {37}, '2013': {37}, 'Rate': {38}, 'Profit,': {38}, 'Financialisation': {38}, 'Growth:': {40, 38}, 'theoretical': {38}, 'empirical': {38}, 'investigation': {45, 38}, '\"Virtuous\"': {39}, 'To': {40, 39}, '\"Bad\"': {39}, 'Finance-Growth': {40, 39}, 'Relationship': {40, 39}, 'Finance': {40}, 'Switch': {40}, '“Virtuous”': {40}, '“Bad”': {40}, 'Presentation': {41}, 'international': {41}, 'workshop': {41}, 'economic': {48, 41}, 'sciences': {41}, 'heterogeneous': {41}, 'interacting': {41}, 'agents': {41}, '(WEHIA)': {41}, 'disclosure': {42}, 'matrix': {42}, 'measuring': {42}, 'corporate': {42}, 'online': {42}, 'Marketing': {43}, 'higher': {43}, 'education': {43}, 'determinants': {43}, 'customers’': {43}, 'satisfaction': {43}, 'at': {43}, 'Business': {43}, 'School:': {43}, 'Determinants': {43}, 'School': {43}, 'four': {44}, 'major': {44}, 'macroeconomic': {44}, 'variables': {44}, 'stock': {44}, 'market': {44}, 'indices': {44}, 'Malaysia,': {44}, 'China': {44}, 'U.S.': {44}, 'main': {45}, 'internal': {45}, 'capabilities': {45}, 'affecting': {45}, 'entry': {45}, 'standards': {45}, 'UK': {45}, 'universities:': {45}, 'quantitative': {45, 47}, 'Educational': {46}, 'Attainment': {46}, 'Household': {46}, 'Characteristics': {46}, 'Turkey': {46}, 'Application': {47}, 'techniques': {47}, 'prediction': {47}, 'bank': {47}, 'acquisition': {47}, 'targets': {47}, 'Human': {48}, 'capital,': {48}, 'trade,': {48}, 'FDI': {48}, 'growth': {48}, 'Thailand:': {48}, 'what': {48}, 'causes': {48}, 'what?': {48}})\n"
     ]
    }
   ],
   "source": [
    "from collections import defaultdict\n",
    "docs=[sent for sent in pubdata_filter.clean_title.str.split()]\n",
    "titleIndex = defaultdict(set)\n",
    "for index, text in enumerate(docs):\n",
    "    for word in text:\n",
    "        titleIndex[word].add(index)\n",
    "print(titleIndex)\n",
    "\n",
    "docs_aut=[sent for sent in pubdata_filter.author_name.str.split()]\n",
    "authorIndex = defaultdict(set)\n",
    "for index, text in enumerate(docs_aut):\n",
    "    for word in text:\n",
    "        authorIndex[word].add(index)\n",
    "print(authorIndex)\n",
    "\n",
    "docs_title=[sent for sent in pubdata_filter.title.str.split()]\n",
    "TitleIndex = defaultdict(set)\n",
    "for index, text in enumerate(docs_title):\n",
    "    for word in text:\n",
    "        TitleIndex[word].add(index)\n",
    "print(TitleIndex)"
   ]
  },
  {
   "cell_type": "markdown",
   "id": "4a164585",
   "metadata": {},
   "source": [
    "## Query"
   ]
  },
  {
   "cell_type": "code",
   "execution_count": 1,
   "id": "b56c6bde",
   "metadata": {
    "scrolled": false
   },
   "outputs": [
    {
     "name": "stdout",
     "output_type": "stream",
     "text": [
      "Search ceo\n"
     ]
    },
    {
     "ename": "NameError",
     "evalue": "name 'titleIndex' is not defined",
     "output_type": "error",
     "traceback": [
      "\u001b[1;31m---------------------------------------------------------------------------\u001b[0m",
      "\u001b[1;31mNameError\u001b[0m                                 Traceback (most recent call last)",
      "\u001b[1;32m~\\AppData\\Local\\Temp/ipykernel_11532/1790660404.py\u001b[0m in \u001b[0;36m<module>\u001b[1;34m\u001b[0m\n\u001b[0;32m      1\u001b[0m \u001b[0mquery\u001b[0m\u001b[1;33m=\u001b[0m\u001b[0minput\u001b[0m\u001b[1;33m(\u001b[0m\u001b[1;34m\"Search \"\u001b[0m\u001b[1;33m)\u001b[0m\u001b[1;33m\u001b[0m\u001b[1;33m\u001b[0m\u001b[0m\n\u001b[1;32m----> 2\u001b[1;33m \u001b[0mkey\u001b[0m\u001b[1;33m=\u001b[0m\u001b[0mtitleIndex\u001b[0m\u001b[1;33m.\u001b[0m\u001b[0mkeys\u001b[0m\u001b[1;33m(\u001b[0m\u001b[1;33m)\u001b[0m\u001b[1;33m\u001b[0m\u001b[1;33m\u001b[0m\u001b[0m\n\u001b[0m\u001b[0;32m      3\u001b[0m \u001b[1;32mif\u001b[0m \u001b[0mquery\u001b[0m \u001b[1;32min\u001b[0m \u001b[0mkey\u001b[0m\u001b[1;33m:\u001b[0m\u001b[1;33m\u001b[0m\u001b[1;33m\u001b[0m\u001b[0m\n\u001b[0;32m      4\u001b[0m     \u001b[1;32mfor\u001b[0m \u001b[0mi\u001b[0m \u001b[1;32min\u001b[0m \u001b[0mtitleIndex\u001b[0m\u001b[1;33m[\u001b[0m\u001b[0mquery\u001b[0m\u001b[1;33m]\u001b[0m\u001b[1;33m:\u001b[0m\u001b[1;33m\u001b[0m\u001b[1;33m\u001b[0m\u001b[0m\n\u001b[0;32m      5\u001b[0m \u001b[1;31m#         print('\\n',pubdata_filter.loc[i,:])\u001b[0m\u001b[1;33m\u001b[0m\u001b[1;33m\u001b[0m\u001b[0m\n",
      "\u001b[1;31mNameError\u001b[0m: name 'titleIndex' is not defined"
     ]
    }
   ],
   "source": [
    "query=input(\"Search \")\n",
    "key=titleIndex.keys()\n",
    "if query in key:\n",
    "    for i in titleIndex[query]:\n",
    "#         print('\\n',pubdata_filter.loc[i,:])\n",
    "        print('\\n The Title:',pubdata_filter.loc[i,\"title\"])\n",
    "        print('\\n Author Name:',pubdata_filter.loc[i,\"author_name\"])\n",
    "        print(\"\\n Author link:\",pubdata_filter.loc[i,'aut_link'])\n",
    "        print(\"\\n publication link:\",pubdata_filter.loc[i,'pub_link'])\n",
    "        print(\"\\n publication date:\", pubdata_filter.loc[i,'pub_date'])\n",
    "key=authorIndex.keys()\n",
    "if query in key:\n",
    "    for i in authorIndex[query]:\n",
    "#         print('\\n',pubdata_filter.loc[i,:])\n",
    "        print('\\n The Title:',pubdata_filter.loc[i,\"title\"])\n",
    "        print('\\n Author Name:',pubdata_filter.loc[i,\"author_name\"])\n",
    "        print(\"\\n Author link:\",pubdata_filter.loc[i,'aut_link'])\n",
    "        print(\"\\n publication link:\",pubdata_filter.loc[i,'pub_link'])\n",
    "        print(\"\\n publication date:\", pubdata_filter.loc[i,'pub_date'])\n",
    "        \n",
    "key=TitleIndex.keys()\n",
    "if query in key:\n",
    "    for i in TitleIndex[query]:\n",
    "#         print('\\n',pubdata_filter.loc[i,:])\n",
    "        print('\\n The Title:',pubdata_filter.loc[i,\"title\"])\n",
    "        print('\\n Author Name:',pubdata_filter.loc[i,\"author_name\"])\n",
    "        print(\"\\n Author link:\",pubdata_filter.loc[i,'aut_link'])\n",
    "        print(\"\\n publication link:\",pubdata_filter.loc[i,'pub_link'])\n",
    "        print(\"\\n publication date:\", pubdata_filter.loc[i,'pub_date'])"
   ]
  },
  {
   "cell_type": "markdown",
   "id": "a5f6edce",
   "metadata": {},
   "source": [
    "## Task-2"
   ]
  },
  {
   "cell_type": "code",
   "execution_count": 16,
   "id": "2a66fa40",
   "metadata": {
    "scrolled": false
   },
   "outputs": [
    {
     "data": {
      "text/html": [
       "<div>\n",
       "<style scoped>\n",
       "    .dataframe tbody tr th:only-of-type {\n",
       "        vertical-align: middle;\n",
       "    }\n",
       "\n",
       "    .dataframe tbody tr th {\n",
       "        vertical-align: top;\n",
       "    }\n",
       "\n",
       "    .dataframe thead th {\n",
       "        text-align: right;\n",
       "    }\n",
       "</style>\n",
       "<table border=\"1\" class=\"dataframe\">\n",
       "  <thead>\n",
       "    <tr style=\"text-align: right;\">\n",
       "      <th></th>\n",
       "      <th>category</th>\n",
       "      <th>text</th>\n",
       "    </tr>\n",
       "  </thead>\n",
       "  <tbody>\n",
       "    <tr>\n",
       "      <th>0</th>\n",
       "      <td>sport</td>\n",
       "      <td>Lucy Bronze has revealed she plays through the...</td>\n",
       "    </tr>\n",
       "    <tr>\n",
       "      <th>1</th>\n",
       "      <td>sport</td>\n",
       "      <td>The 30-year-old right-back, who joined Barcelo...</td>\n",
       "    </tr>\n",
       "    <tr>\n",
       "      <th>2</th>\n",
       "      <td>sport</td>\n",
       "      <td>She scored in England's 4-0 semi-final win ove...</td>\n",
       "    </tr>\n",
       "    <tr>\n",
       "      <th>3</th>\n",
       "      <td>sport</td>\n",
       "      <td>It's been difficult to come back from a knee i...</td>\n",
       "    </tr>\n",
       "    <tr>\n",
       "      <th>4</th>\n",
       "      <td>sport</td>\n",
       "      <td>There are plenty of players who are having to ...</td>\n",
       "    </tr>\n",
       "    <tr>\n",
       "      <th>...</th>\n",
       "      <td>...</td>\n",
       "      <td>...</td>\n",
       "    </tr>\n",
       "    <tr>\n",
       "      <th>104</th>\n",
       "      <td>health</td>\n",
       "      <td>new subvariants do appear to be spreading more...</td>\n",
       "    </tr>\n",
       "    <tr>\n",
       "      <th>105</th>\n",
       "      <td>health</td>\n",
       "      <td>Doctors say it is vital people get the recomme...</td>\n",
       "    </tr>\n",
       "    <tr>\n",
       "      <th>106</th>\n",
       "      <td>health</td>\n",
       "      <td>maximum protection against existing and emergi...</td>\n",
       "    </tr>\n",
       "    <tr>\n",
       "      <th>107</th>\n",
       "      <td>health</td>\n",
       "      <td>How quickly could we get new vaccines against ...</td>\n",
       "    </tr>\n",
       "    <tr>\n",
       "      <th>108</th>\n",
       "      <td>health</td>\n",
       "      <td>The bug, called Burkholderia pseudomallei, can...</td>\n",
       "    </tr>\n",
       "  </tbody>\n",
       "</table>\n",
       "<p>109 rows × 2 columns</p>\n",
       "</div>"
      ],
      "text/plain": [
       "    category                                               text\n",
       "0      sport  Lucy Bronze has revealed she plays through the...\n",
       "1      sport  The 30-year-old right-back, who joined Barcelo...\n",
       "2      sport  She scored in England's 4-0 semi-final win ove...\n",
       "3      sport  It's been difficult to come back from a knee i...\n",
       "4      sport  There are plenty of players who are having to ...\n",
       "..       ...                                                ...\n",
       "104   health  new subvariants do appear to be spreading more...\n",
       "105   health  Doctors say it is vital people get the recomme...\n",
       "106   health  maximum protection against existing and emergi...\n",
       "107   health  How quickly could we get new vaccines against ...\n",
       "108   health  The bug, called Burkholderia pseudomallei, can...\n",
       "\n",
       "[109 rows x 2 columns]"
      ]
     },
     "execution_count": 16,
     "metadata": {},
     "output_type": "execute_result"
    }
   ],
   "source": [
    "import pandas as pd\n",
    "data=pd.read_csv('data.csv')\n",
    "data"
   ]
  },
  {
   "cell_type": "code",
   "execution_count": 121,
   "id": "319d8292",
   "metadata": {},
   "outputs": [
    {
     "data": {
      "text/plain": [
       "array(['sport', 'politics', 'health'], dtype=object)"
      ]
     },
     "execution_count": 121,
     "metadata": {},
     "output_type": "execute_result"
    }
   ],
   "source": [
    "data['category'].unique()"
   ]
  },
  {
   "cell_type": "markdown",
   "id": "8c3b2a09",
   "metadata": {},
   "source": [
    "## Removing Punctuation"
   ]
  },
  {
   "cell_type": "code",
   "execution_count": 17,
   "id": "902a8149",
   "metadata": {},
   "outputs": [
    {
     "name": "stdout",
     "output_type": "stream",
     "text": [
      "0      Lucy Bronze has revealed she plays through the...\n",
      "1      The 30yearold rightback who joined Barcelona f...\n",
      "2      She scored in Englands 40 semifinal win over S...\n",
      "3      Its been difficult to come back from a knee in...\n",
      "4      There are plenty of players who are having to ...\n",
      "                             ...                        \n",
      "104    new subvariants do appear to be spreading more...\n",
      "105    Doctors say it is vital people get the recomme...\n",
      "106    maximum protection against existing and emergi...\n",
      "107    How quickly could we get new vaccines against ...\n",
      "108    The bug called Burkholderia pseudomallei can m...\n",
      "Name: text, Length: 109, dtype: object\n"
     ]
    }
   ],
   "source": [
    "data_text=data['text']\n",
    "punc = '''!()-[]{};:'\"\\,''<>./?@#$%^&*_~’``'''\n",
    "no_punc_text=data_text.apply(lambda x: ''.join(i for i in x if i not in set(punc)))\n",
    "print(no_punc_text)\n"
   ]
  },
  {
   "cell_type": "code",
   "execution_count": 18,
   "id": "bb8aa77e",
   "metadata": {},
   "outputs": [
    {
     "data": {
      "text/html": [
       "<div>\n",
       "<style scoped>\n",
       "    .dataframe tbody tr th:only-of-type {\n",
       "        vertical-align: middle;\n",
       "    }\n",
       "\n",
       "    .dataframe tbody tr th {\n",
       "        vertical-align: top;\n",
       "    }\n",
       "\n",
       "    .dataframe thead th {\n",
       "        text-align: right;\n",
       "    }\n",
       "</style>\n",
       "<table border=\"1\" class=\"dataframe\">\n",
       "  <thead>\n",
       "    <tr style=\"text-align: right;\">\n",
       "      <th></th>\n",
       "      <th>category</th>\n",
       "      <th>text</th>\n",
       "      <th>no_punc_num</th>\n",
       "    </tr>\n",
       "  </thead>\n",
       "  <tbody>\n",
       "    <tr>\n",
       "      <th>0</th>\n",
       "      <td>sport</td>\n",
       "      <td>Lucy Bronze has revealed she plays through the...</td>\n",
       "      <td>lucy bronze has revealed she plays through the...</td>\n",
       "    </tr>\n",
       "    <tr>\n",
       "      <th>1</th>\n",
       "      <td>sport</td>\n",
       "      <td>The 30-year-old right-back, who joined Barcelo...</td>\n",
       "      <td>the 30yearold rightback who joined barcelona f...</td>\n",
       "    </tr>\n",
       "    <tr>\n",
       "      <th>2</th>\n",
       "      <td>sport</td>\n",
       "      <td>She scored in England's 4-0 semi-final win ove...</td>\n",
       "      <td>she scored in englands 40 semifinal win over s...</td>\n",
       "    </tr>\n",
       "    <tr>\n",
       "      <th>3</th>\n",
       "      <td>sport</td>\n",
       "      <td>It's been difficult to come back from a knee i...</td>\n",
       "      <td>its been difficult to come back from a knee in...</td>\n",
       "    </tr>\n",
       "    <tr>\n",
       "      <th>4</th>\n",
       "      <td>sport</td>\n",
       "      <td>There are plenty of players who are having to ...</td>\n",
       "      <td>there are plenty of players who are having to ...</td>\n",
       "    </tr>\n",
       "    <tr>\n",
       "      <th>...</th>\n",
       "      <td>...</td>\n",
       "      <td>...</td>\n",
       "      <td>...</td>\n",
       "    </tr>\n",
       "    <tr>\n",
       "      <th>104</th>\n",
       "      <td>health</td>\n",
       "      <td>new subvariants do appear to be spreading more...</td>\n",
       "      <td>new subvariants do appear to be spreading more...</td>\n",
       "    </tr>\n",
       "    <tr>\n",
       "      <th>105</th>\n",
       "      <td>health</td>\n",
       "      <td>Doctors say it is vital people get the recomme...</td>\n",
       "      <td>doctors say it is vital people get the recomme...</td>\n",
       "    </tr>\n",
       "    <tr>\n",
       "      <th>106</th>\n",
       "      <td>health</td>\n",
       "      <td>maximum protection against existing and emergi...</td>\n",
       "      <td>maximum protection against existing and emergi...</td>\n",
       "    </tr>\n",
       "    <tr>\n",
       "      <th>107</th>\n",
       "      <td>health</td>\n",
       "      <td>How quickly could we get new vaccines against ...</td>\n",
       "      <td>how quickly could we get new vaccines against ...</td>\n",
       "    </tr>\n",
       "    <tr>\n",
       "      <th>108</th>\n",
       "      <td>health</td>\n",
       "      <td>The bug, called Burkholderia pseudomallei, can...</td>\n",
       "      <td>the bug called burkholderia pseudomallei can m...</td>\n",
       "    </tr>\n",
       "  </tbody>\n",
       "</table>\n",
       "<p>109 rows × 3 columns</p>\n",
       "</div>"
      ],
      "text/plain": [
       "    category                                               text  \\\n",
       "0      sport  Lucy Bronze has revealed she plays through the...   \n",
       "1      sport  The 30-year-old right-back, who joined Barcelo...   \n",
       "2      sport  She scored in England's 4-0 semi-final win ove...   \n",
       "3      sport  It's been difficult to come back from a knee i...   \n",
       "4      sport  There are plenty of players who are having to ...   \n",
       "..       ...                                                ...   \n",
       "104   health  new subvariants do appear to be spreading more...   \n",
       "105   health  Doctors say it is vital people get the recomme...   \n",
       "106   health  maximum protection against existing and emergi...   \n",
       "107   health  How quickly could we get new vaccines against ...   \n",
       "108   health  The bug, called Burkholderia pseudomallei, can...   \n",
       "\n",
       "                                           no_punc_num  \n",
       "0    lucy bronze has revealed she plays through the...  \n",
       "1    the 30yearold rightback who joined barcelona f...  \n",
       "2    she scored in englands 40 semifinal win over s...  \n",
       "3    its been difficult to come back from a knee in...  \n",
       "4    there are plenty of players who are having to ...  \n",
       "..                                                 ...  \n",
       "104  new subvariants do appear to be spreading more...  \n",
       "105  doctors say it is vital people get the recomme...  \n",
       "106  maximum protection against existing and emergi...  \n",
       "107  how quickly could we get new vaccines against ...  \n",
       "108  the bug called burkholderia pseudomallei can m...  \n",
       "\n",
       "[109 rows x 3 columns]"
      ]
     },
     "execution_count": 18,
     "metadata": {},
     "output_type": "execute_result"
    }
   ],
   "source": [
    "no_num=no_punc_text.str.lower().replace(\"[0-9]\",\" \")\n",
    "data['no_punc_num']=no_num.apply(lambda x:' '.join(x.split()))\n",
    "data"
   ]
  },
  {
   "cell_type": "code",
   "execution_count": 21,
   "id": "69872254",
   "metadata": {},
   "outputs": [
    {
     "name": "stdout",
     "output_type": "stream",
     "text": [
      "['i', 'me', 'my', 'myself', 'we', 'our', 'ours', 'ourselves', 'you', \"you're\", \"you've\", \"you'll\", \"you'd\", 'your', 'yours', 'yourself', 'yourselves', 'he', 'him', 'his', 'himself', 'she', \"she's\", 'her', 'hers', 'herself', 'it', \"it's\", 'its', 'itself', 'they', 'them', 'their', 'theirs', 'themselves', 'what', 'which', 'who', 'whom', 'this', 'that', \"that'll\", 'these', 'those', 'am', 'is', 'are', 'was', 'were', 'be', 'been', 'being', 'have', 'has', 'had', 'having', 'do', 'does', 'did', 'doing', 'a', 'an', 'the', 'and', 'but', 'if', 'or', 'because', 'as', 'until', 'while', 'of', 'at', 'by', 'for', 'with', 'about', 'against', 'between', 'into', 'through', 'during', 'before', 'after', 'above', 'below', 'to', 'from', 'up', 'down', 'in', 'out', 'on', 'off', 'over', 'under', 'again', 'further', 'then', 'once', 'here', 'there', 'when', 'where', 'why', 'how', 'all', 'any', 'both', 'each', 'few', 'more', 'most', 'other', 'some', 'such', 'no', 'nor', 'not', 'only', 'own', 'same', 'so', 'than', 'too', 'very', 's', 't', 'can', 'will', 'just', 'don', \"don't\", 'should', \"should've\", 'now', 'd', 'll', 'm', 'o', 're', 've', 'y', 'ain', 'aren', \"aren't\", 'couldn', \"couldn't\", 'didn', \"didn't\", 'doesn', \"doesn't\", 'hadn', \"hadn't\", 'hasn', \"hasn't\", 'haven', \"haven't\", 'isn', \"isn't\", 'ma', 'mightn', \"mightn't\", 'mustn', \"mustn't\", 'needn', \"needn't\", 'shan', \"shan't\", 'shouldn', \"shouldn't\", 'wasn', \"wasn't\", 'weren', \"weren't\", 'won', \"won't\", 'wouldn', \"wouldn't\"]\n"
     ]
    },
    {
     "name": "stderr",
     "output_type": "stream",
     "text": [
      "[nltk_data] Downloading package stopwords to\n",
      "[nltk_data]     C:\\Users\\pagid\\AppData\\Roaming\\nltk_data...\n",
      "[nltk_data]   Package stopwords is already up-to-date!\n"
     ]
    }
   ],
   "source": [
    "import nltk\n",
    "nltk.download(\"stopwords\")\n",
    "from nltk.corpus import stopwords\n",
    "stpwrds = stopwords.words('english')\n",
    "print(stpwrds)\n"
   ]
  },
  {
   "cell_type": "code",
   "execution_count": 22,
   "id": "9ff612e6",
   "metadata": {},
   "outputs": [
    {
     "name": "stdout",
     "output_type": "stream",
     "text": [
      "['luci bronz reveal play pain knee injuri ', '30yearold rightback join barcelona manchest citi summer ', 'score england 40 semifin win sweden bramal lane ', 'difficult come back knee injuri linger long time ', 'plenti player play pain career ', 'also three champion leagu row lyon ', 'everyon keep say doesnt look like she struggl ', 'luci bronz coupl year ago best player world ', 'bronz set beth mead open sweden head second goal ', 'still happi contribut team still play good footbal ', 'goal assist someth consid major part game ', 'ellen white lauren hemp get scoresheet ', 'score euro ive score world cup ', 'goal came realli import time straight halftim kind kill ', 'england face winner thursday semifin franc germani wembley ', 'lot work get moment firmli believ manag ', 'manchest unit look forward see develop help team ', 'coverag manchest unit bigger better ever here everyth ', 'media interest grew journalist realis brother call ping ', 'ho appear cope admir attent expect ', 'never reveal ive lot issu food ', 'first strict eat ', 'grow never felt comfort enough seek medic diagnosi ', 'say speak journey hope help other ', 'interest tabl tenni stem father turn coach ', 'fascin creativ individu style player demonstr ', 'like mani teenag though adolesc year brought challeng societ ', 'combin pursuit career profession athlet ', 'pretti concern weight anoth pressur ', 'situat escal first year univers ', 'live home mum use cook balanc healthi meal ', 'felt pressur decid eat dietbas issu play ', 'would experi feel extrem guilt ', 'kind joke us look back realis lot oat ', 'get anxiou around everi meal throughout time ', 'broken foot first major injuri career ', 'peati first made name glasgow commonwealth 2014 ', 'breaststrok commonwealth titl second time ', 'ms truss said ask would fund plan seri tax cut ', 'fiscal headroom term amount extra govern ', 'spend without break rule borrow ', 'offic budget respons conclud mr sunak polici chancellor left £30bn fiscal headroom ', 'institut fiscal studi point inflat eat figur ', 'govern increas public sector pay cost billion ', 'rishi sunak million home need better insul ', 'howev last decad instal rate fallen ', 'uk govern advisori bodi climat chang ', 'environ audit committe said botch scheme must reform ', 'two week later telegraph report treasuri block ', 'liz truss sinc referendum took place ive deliv dozen trade deal ', 'section debat candid give one ', 'deni brexit one main factor involv ', 'uk eu much less need rigor check port ', 'uk citizen could travel freeli around eu ', 'freedom movement end brexit french offici ', 'sunak need acknowledg china threat nation secur threat econom secur ', 'mr sunak posit china alway stark ', 'june 2020 mr sunak reportedli one sever cabinet member warn bori johnson break econom tie china ', 'write ecologist group scientist activist launch ', 'movement hope would emul countri ', 'one first found uk becam green parti ', 'german green 148 vote nationwid struck ', 'british alli reach height sinc 1989 ', 'scottish green share power snp sinc 2021 ', 'parti support scottish independ uk ', 'green new zealand govern labour parti ', 'ms slater parallel scotland new zealand obviou ', 'video meet set microsoft team ', 'gave us copi cooper agreement ', 'women go menopaus given greater right protect workplac ', 'women equal committe said lack support uk push women work ', 'crossparti group want menopaus becom protect characterist like pregnanc ', 'give work women right ', 'offer menopaus leav also pilot larg publicsector employ ', 'carolin noke chair committe said stigma shame dismiss ', 'imper build workplac societi ', 'experienc skill worker economi thrive ', 'committe said omiss menopaus protect ', 'characterist equal act longer tenabl given 51 popul ', 'includ tran men peopl nonbinari would experi transit ', 'sleep memori concentr problem ', 'hot flush ', 'anxieti depress ', 'ts research found women sought workplac adjust ', 'human immunodefici viru hiv damag bodi immun system ', 'lead aid acquir immunodefici syndrom bodi struggl fight infect ', 'never thought would live see day longer hiv ', 'man medic team decid need bone marrow transplant replac cancer blood cell ', 'viru get bodi white blood cell use microscop doorway protein call ccr5 ', 'citi hope patient close monitor transplant ', 'becam first person world cure hiv ', 'dr dickter told complex procedur signific potenti side effect ', 'comment find prof sharon lewin presidentelect intern aid societi ', 'scotland legal restrict face cover come end ', 'scottish govern say strongli recommend wear mask indoor public space public transport ', 'peopl symptom longer ask take pcr test ', 'mask longer requir shop public transport ', 'gp surgeri emerg depart unless suspect confirm covid infect ', 'exact interpret rule also depend local risk assess ', 'ever sinc first emerg covid mutat shapeshift ', 'new genet version keep appear call variant ', 'european countri look set overtak type covid soon ', 'us offici say see rise number infect caus two new subvari ', 'expert unsur hard countri hit ', 'new subvari appear spread easili ', 'doctor say vital peopl get recommend number dose gain ', 'maximum protect exist emerg variant ', 'quickli could get new vaccin variant ', 'bug call burkholderia pseudomallei make peopl extrem ']\n"
     ]
    },
    {
     "name": "stderr",
     "output_type": "stream",
     "text": [
      "[nltk_data] Downloading package punkt to\n",
      "[nltk_data]     C:\\Users\\pagid\\AppData\\Roaming\\nltk_data...\n",
      "[nltk_data]   Package punkt is already up-to-date!\n"
     ]
    }
   ],
   "source": [
    "nltk.download(\"punkt\")\n",
    "from nltk.tokenize import word_tokenize\n",
    "from nltk.stem import PorterStemmer\n",
    "\n",
    "ps = PorterStemmer()\n",
    "clean_docs = []\n",
    "for text in data['no_punc_num'].str.split():\n",
    "    tmp = \"\"\n",
    "    for word in text:\n",
    "        if word not in stpwrds:\n",
    "            tmp += ps.stem(word) + \" \"\n",
    "    clean_docs.append(tmp)\n",
    "\n",
    "print(clean_docs)"
   ]
  },
  {
   "cell_type": "code",
   "execution_count": 23,
   "id": "136ec3e5",
   "metadata": {},
   "outputs": [
    {
     "data": {
      "text/html": [
       "<div>\n",
       "<style scoped>\n",
       "    .dataframe tbody tr th:only-of-type {\n",
       "        vertical-align: middle;\n",
       "    }\n",
       "\n",
       "    .dataframe tbody tr th {\n",
       "        vertical-align: top;\n",
       "    }\n",
       "\n",
       "    .dataframe thead th {\n",
       "        text-align: right;\n",
       "    }\n",
       "</style>\n",
       "<table border=\"1\" class=\"dataframe\">\n",
       "  <thead>\n",
       "    <tr style=\"text-align: right;\">\n",
       "      <th></th>\n",
       "      <th>clean_text</th>\n",
       "      <th>category</th>\n",
       "    </tr>\n",
       "  </thead>\n",
       "  <tbody>\n",
       "    <tr>\n",
       "      <th>0</th>\n",
       "      <td>luci bronz reveal play pain knee injuri</td>\n",
       "      <td>sport</td>\n",
       "    </tr>\n",
       "    <tr>\n",
       "      <th>1</th>\n",
       "      <td>30yearold rightback join barcelona manchest ci...</td>\n",
       "      <td>sport</td>\n",
       "    </tr>\n",
       "    <tr>\n",
       "      <th>2</th>\n",
       "      <td>score england 40 semifin win sweden bramal lane</td>\n",
       "      <td>sport</td>\n",
       "    </tr>\n",
       "    <tr>\n",
       "      <th>3</th>\n",
       "      <td>difficult come back knee injuri linger long time</td>\n",
       "      <td>sport</td>\n",
       "    </tr>\n",
       "    <tr>\n",
       "      <th>4</th>\n",
       "      <td>plenti player play pain career</td>\n",
       "      <td>sport</td>\n",
       "    </tr>\n",
       "    <tr>\n",
       "      <th>...</th>\n",
       "      <td>...</td>\n",
       "      <td>...</td>\n",
       "    </tr>\n",
       "    <tr>\n",
       "      <th>104</th>\n",
       "      <td>new subvari appear spread easili</td>\n",
       "      <td>health</td>\n",
       "    </tr>\n",
       "    <tr>\n",
       "      <th>105</th>\n",
       "      <td>doctor say vital peopl get recommend number do...</td>\n",
       "      <td>health</td>\n",
       "    </tr>\n",
       "    <tr>\n",
       "      <th>106</th>\n",
       "      <td>maximum protect exist emerg variant</td>\n",
       "      <td>health</td>\n",
       "    </tr>\n",
       "    <tr>\n",
       "      <th>107</th>\n",
       "      <td>quickli could get new vaccin variant</td>\n",
       "      <td>health</td>\n",
       "    </tr>\n",
       "    <tr>\n",
       "      <th>108</th>\n",
       "      <td>bug call burkholderia pseudomallei make peopl ...</td>\n",
       "      <td>health</td>\n",
       "    </tr>\n",
       "  </tbody>\n",
       "</table>\n",
       "<p>109 rows × 2 columns</p>\n",
       "</div>"
      ],
      "text/plain": [
       "                                            clean_text category\n",
       "0             luci bronz reveal play pain knee injuri     sport\n",
       "1    30yearold rightback join barcelona manchest ci...    sport\n",
       "2     score england 40 semifin win sweden bramal lane     sport\n",
       "3    difficult come back knee injuri linger long time     sport\n",
       "4                      plenti player play pain career     sport\n",
       "..                                                 ...      ...\n",
       "104                  new subvari appear spread easili    health\n",
       "105  doctor say vital peopl get recommend number do...   health\n",
       "106               maximum protect exist emerg variant    health\n",
       "107              quickli could get new vaccin variant    health\n",
       "108  bug call burkholderia pseudomallei make peopl ...   health\n",
       "\n",
       "[109 rows x 2 columns]"
      ]
     },
     "execution_count": 23,
     "metadata": {},
     "output_type": "execute_result"
    }
   ],
   "source": [
    "data['clean_text']=clean_docs\n",
    "final_data=data[['clean_text','category']]\n",
    "final_data"
   ]
  },
  {
   "cell_type": "code",
   "execution_count": 24,
   "id": "752f5b12",
   "metadata": {},
   "outputs": [
    {
     "name": "stdout",
     "output_type": "stream",
     "text": [
      "[[0. 0. 0. ... 0. 0. 0.]\n",
      " [0. 0. 0. ... 0. 0. 0.]\n",
      " [0. 0. 0. ... 0. 0. 0.]\n",
      " ...\n",
      " [0. 0. 0. ... 0. 0. 0.]\n",
      " [0. 0. 0. ... 0. 0. 0.]\n",
      " [0. 0. 0. ... 0. 0. 0.]]\n"
     ]
    }
   ],
   "source": [
    "from sklearn.feature_extraction.text import TfidfVectorizer\n",
    "vectorizer =TfidfVectorizer()\n",
    "vect = vectorizer.fit_transform(final_data['clean_text'],final_data['category'])\n",
    "print(vect.todense())"
   ]
  },
  {
   "cell_type": "code",
   "execution_count": 25,
   "id": "ee171b90",
   "metadata": {
    "scrolled": true
   },
   "outputs": [
    {
     "name": "stdout",
     "output_type": "stream",
     "text": [
      "cluster no. of input documents, in the order they received:\n",
      "[1 0 0 0 1 0 0 1 0 1 0 0 0 0 0 0 0 0 0 0 0 1 0 0 0 1 1 1 0 0 0 1 0 2 0 1 0\n",
      " 0 0 0 0 1 0 0 0 0 0 0 2 0 0 0 0 0 2 0 0 0 0 0 0 0 0 1 0 2 2 0 2 0 0 0 0 0\n",
      " 0 0 0 0 0 0 0 0 0 0 0 2 2 0 1 0 0 0 1 0 0 0 0 2 0 1 2 1 2 0 2 2 0 2 0]\n"
     ]
    }
   ],
   "source": [
    "from sklearn.cluster import KMeans\n",
    "K = 3\n",
    "model = KMeans(n_clusters=K, init='k-means++', max_iter=100, n_init=1)\n",
    "model.fit(vect)\n",
    "\n",
    "print(\"cluster no. of input documents, in the order they received:\")\n",
    "print(model.labels_)\n"
   ]
  },
  {
   "cell_type": "code",
   "execution_count": 297,
   "id": "bcc897a0",
   "metadata": {},
   "outputs": [
    {
     "name": "stdout",
     "output_type": "stream",
     "text": [
      "[0]\n",
      "[1]\n",
      "[2]\n"
     ]
    }
   ],
   "source": [
    "Y = vectorizer.transform([\"Bronze has revealed she plays through\"])\n",
    "prediction = model.predict(Y)\n",
    "print(prediction)\n",
    "\n",
    "Y = vectorizer.transform([\"Rishi Sunak: 'There are millions of homes that need better insulation\"])\n",
    "prediction = model.predict(Y)\n",
    "print(prediction)\n",
    "\n",
    "Y = vectorizer.transform([\"to give working women more rights\"])\n",
    "prediction = model.predict(Y)\n",
    "print(prediction)\n"
   ]
  },
  {
   "cell_type": "code",
   "execution_count": null,
   "id": "97470ecb",
   "metadata": {},
   "outputs": [],
   "source": [
    "for i in range (0,13):\\n\",\n",
    "    \"    tag = \\\"?page=\\\"+str(i)\\n\",\n",
    "    \"    url = f'https://pureportal.coventry.ac.uk/en/organisations/school-of-economics-finance-and-accounting/publications/{tag}'\\n\",\n",
    "    \"    response = requests.get(url)\\n\",\n",
    "    \"    soup = BeautifulSoup(response.content, 'html.parser')\\n\",\n",
    "    \"\\n\",\n",
    "    \"    for publications in soup.findAll(\\\"div\\\",{\\\"class\\\":\\\"result-container\\\"}):\\n\",\n",
    "    \"        for data in publications.findAll(\\\"a\\\",{\\\"class\\\":\\\"link person\\\"}):\\n\",\n",
    "    \"            name1 = data.string\\n\",\n",
    "    \"            link1 = data.get('href')\\n\",\n",
    "    \"            a_name.append(name1)\\n\",\n",
    "    \"            a_link.append(link1)\\n\",\n",
    "    \"\\n\",\n",
    "    \"        for item in publications.find_all(\\\"h3\\\",class_=\\\"title\\\"):\\n\",\n",
    "    \"            for var in item.find_all(\\\"a\\\",class_=\\\"link\\\"):\\n\",\n",
    "    \"                name = var.string\\n\",\n",
    "    \"                link = var.get('href')\\n\",\n",
    "    \"                publication_title_list.append(name)\\n\",\n",
    "    \"                publication_links.append(link)\\n\",\n",
    "    \"        for values in publications.find_all(\\\"span\\\",class_=\\\"date\\\"):\\n\",\n",
    "    \"            d = values.string\\n\",\n",
    "      date_list.append(d)\\n\",\n",
    "    \"print(\\\"Done crawling all data\\\")\\n\",\n",
    "    \"           \"\n",
    "   ]\n",
    "  },\n",
    "  {\n",
    "   \"cell_type\": \"code\",\n",
    "   \"execution_count\": 119,\n",
    "   \"id\": \"3a5944ad\",\n",
    "   \"metadata\": {},\n",
    "   \"outputs\": [],\n",
    "   \"source\": [\n",
    "    \"#Converting into DF\\n\",\n",
    "    \"from pandas import DataFrame\\n\"\n",
    "   ]\n",
    "  },\n",
    "  {\n",
    "   cell_type\": \"code\",\n",
    "   execution_count\": 120,\n",
    "   id: \"af03ab87\",\n",
    "   metadata\": {},\n",
    "   outputs\": [],\n",
    "   source\": [\n",
    "    bookname = DataFrame(publication_title_list,columns = ['Bookname'] , index = (i for i in range(1,(len(publication_title_list)+1))))\\n\",,\n",
    "    bookurl = DataFrame(publication_links,columns = ['Publication Links'] , index = (i for i in range(1,(len(publication_links)+1))))\\n\",\n",
    "    authorname = DataFrame(a_name,columns = ['Author Name'] , index = (i for i in range(1,(len(a_name)+1))))\\n\",\n",
    "    \"\\n\",\n",
    "    \"linksof = DataFrame(a_link,columns = ['Author Links'] , index = (i for i in range(1,(len(a_name)+1))))\\n\",\n",
    "    \"\\n\",\n",
    "    \"dates = DataFrame(date_list,columns = ['Date'] , index = (i for i in range(1,(len(date_list)+1))))\\n\""
   ]
  },
  {
   "cell_type": "code",
   "execution_count": null,
   "id": "6eaab53c",
   "metadata": {},
   "outputs": [],
   "source": []
  }
 ],
 "metadata": {
  "kernelspec": {
   "display_name": "Python 3 (ipykernel)",
   "language": "python",
   "name": "python3"
  },
  "language_info": {
   "codemirror_mode": {
    "name": "ipython",
    "version": 3
   },
   "file_extension": ".py",
   "mimetype": "text/x-python",
   "name": "python",
   "nbconvert_exporter": "python",
   "pygments_lexer": "ipython3",
   "version": "3.9.7"
  }
 },
 "nbformat": 4,
 "nbformat_minor": 5
}
